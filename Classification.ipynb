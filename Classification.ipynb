{
 "cells": [
  {
   "cell_type": "markdown",
   "metadata": {},
   "source": [
    "#                                       ASSIGNMENT"
   ]
  },
  {
   "cell_type": "code",
   "execution_count": 1,
   "metadata": {},
   "outputs": [
    {
     "name": "stderr",
     "output_type": "stream",
     "text": [
      "C:\\ProgramData\\Anaconda3\\lib\\site-packages\\sklearn\\cross_validation.py:44: DeprecationWarning: This module was deprecated in version 0.18 in favor of the model_selection module into which all the refactored classes and functions are moved. Also note that the interface of the new CV iterators are different from that of this module. This module will be removed in 0.20.\n",
      "  \"This module will be removed in 0.20.\", DeprecationWarning)\n",
      "C:\\ProgramData\\Anaconda3\\lib\\site-packages\\sklearn\\grid_search.py:43: DeprecationWarning: This module was deprecated in version 0.18 in favor of the model_selection module into which all the refactored classes and functions are moved. This module will be removed in 0.20.\n",
      "  DeprecationWarning)\n"
     ]
    }
   ],
   "source": [
    "# IMPORTING PACKAGES\n",
    "import warnings\n",
    "warnings.filterwarnings(\"ignore\")\n",
    "import numpy as np\n",
    "import pandas as pd\n",
    "import seaborn as sns\n",
    "import matplotlib.pyplot as plt\n",
    "%matplotlib inline\n",
    "from sklearn.model_selection import train_test_split\n",
    "from sklearn.preprocessing import StandardScaler\n",
    "from sklearn.neural_network import MLPClassifier\n",
    "from sklearn.svm import SVC\n",
    "from sklearn.linear_model import LogisticRegression\n",
    "from sklearn.tree import DecisionTreeClassifier\n",
    "from sklearn.ensemble import RandomForestClassifier, AdaBoostClassifier\n",
    "from xgboost import XGBClassifier\n",
    "from sklearn.ensemble import GradientBoostingClassifier\n",
    "from sklearn.metrics import accuracy_score\n",
    "from sklearn.metrics import classification_report,confusion_matrix\n",
    "from sklearn.cross_validation import *\n",
    "from sklearn.grid_search import GridSearchCV\n",
    "from sklearn.metrics import roc_curve, auc\n",
    "from sklearn.feature_selection import RFE\n",
    "from sklearn.ensemble import ExtraTreesClassifier\n",
    "from sklearn.metrics import log_loss\n",
    "from sklearn.model_selection import KFold\n",
    "from sklearn.model_selection import cross_val_score\n",
    "from sklearn.neighbors import KNeighborsClassifier \n",
    "from sklearn.discriminant_analysis import LinearDiscriminantAnalysis \n",
    "from sklearn.metrics import make_scorer\n",
    "from sklearn.ensemble import AdaBoostClassifier\n",
    "from sklearn.ensemble import GradientBoostingClassifier\n",
    "from sklearn.ensemble import BaggingClassifier\n",
    "from sklearn.ensemble import VotingClassifier\n",
    "from sklearn.model_selection import RandomizedSearchCV"
   ]
  },
  {
   "cell_type": "markdown",
   "metadata": {},
   "source": [
    "# LOADING DATASET"
   ]
  },
  {
   "cell_type": "code",
   "execution_count": 2,
   "metadata": {
    "collapsed": true
   },
   "outputs": [],
   "source": [
    "#IMPORTING DATASET\n",
    "dataset = pd.read_csv(\"C:/Users/Administrator/Documents/Arun/InterviewTest.csv\")"
   ]
  },
  {
   "cell_type": "code",
   "execution_count": 3,
   "metadata": {},
   "outputs": [
    {
     "data": {
      "text/html": [
       "<div>\n",
       "<style>\n",
       "    .dataframe thead tr:only-child th {\n",
       "        text-align: right;\n",
       "    }\n",
       "\n",
       "    .dataframe thead th {\n",
       "        text-align: left;\n",
       "    }\n",
       "\n",
       "    .dataframe tbody tr th {\n",
       "        vertical-align: top;\n",
       "    }\n",
       "</style>\n",
       "<table border=\"1\" class=\"dataframe\">\n",
       "  <thead>\n",
       "    <tr style=\"text-align: right;\">\n",
       "      <th></th>\n",
       "      <th>A</th>\n",
       "      <th>B</th>\n",
       "      <th>C</th>\n",
       "      <th>D</th>\n",
       "      <th>E</th>\n",
       "      <th>F</th>\n",
       "      <th>G</th>\n",
       "      <th>H</th>\n",
       "      <th>I</th>\n",
       "      <th>Binary</th>\n",
       "    </tr>\n",
       "  </thead>\n",
       "  <tbody>\n",
       "    <tr>\n",
       "      <th>0</th>\n",
       "      <td>6813.43</td>\n",
       "      <td>0.01</td>\n",
       "      <td>3214.35</td>\n",
       "      <td>90.72</td>\n",
       "      <td>0.0</td>\n",
       "      <td>115.0</td>\n",
       "      <td>0.0</td>\n",
       "      <td>0.0</td>\n",
       "      <td>80.0</td>\n",
       "      <td>False</td>\n",
       "    </tr>\n",
       "    <tr>\n",
       "      <th>1</th>\n",
       "      <td>6813.43</td>\n",
       "      <td>0.01</td>\n",
       "      <td>3214.35</td>\n",
       "      <td>90.72</td>\n",
       "      <td>0.0</td>\n",
       "      <td>117.4</td>\n",
       "      <td>0.0</td>\n",
       "      <td>0.0</td>\n",
       "      <td>80.0</td>\n",
       "      <td>False</td>\n",
       "    </tr>\n",
       "    <tr>\n",
       "      <th>2</th>\n",
       "      <td>6813.43</td>\n",
       "      <td>0.01</td>\n",
       "      <td>3214.35</td>\n",
       "      <td>90.72</td>\n",
       "      <td>0.0</td>\n",
       "      <td>115.3</td>\n",
       "      <td>0.0</td>\n",
       "      <td>0.0</td>\n",
       "      <td>80.0</td>\n",
       "      <td>False</td>\n",
       "    </tr>\n",
       "    <tr>\n",
       "      <th>3</th>\n",
       "      <td>6813.43</td>\n",
       "      <td>0.01</td>\n",
       "      <td>3214.35</td>\n",
       "      <td>90.72</td>\n",
       "      <td>0.0</td>\n",
       "      <td>116.4</td>\n",
       "      <td>0.0</td>\n",
       "      <td>0.0</td>\n",
       "      <td>79.0</td>\n",
       "      <td>False</td>\n",
       "    </tr>\n",
       "    <tr>\n",
       "      <th>4</th>\n",
       "      <td>6813.43</td>\n",
       "      <td>0.01</td>\n",
       "      <td>3214.35</td>\n",
       "      <td>90.72</td>\n",
       "      <td>0.0</td>\n",
       "      <td>116.4</td>\n",
       "      <td>0.0</td>\n",
       "      <td>0.0</td>\n",
       "      <td>78.0</td>\n",
       "      <td>False</td>\n",
       "    </tr>\n",
       "  </tbody>\n",
       "</table>\n",
       "</div>"
      ],
      "text/plain": [
       "         A     B        C      D    E      F    G    H     I  Binary\n",
       "0  6813.43  0.01  3214.35  90.72  0.0  115.0  0.0  0.0  80.0   False\n",
       "1  6813.43  0.01  3214.35  90.72  0.0  117.4  0.0  0.0  80.0   False\n",
       "2  6813.43  0.01  3214.35  90.72  0.0  115.3  0.0  0.0  80.0   False\n",
       "3  6813.43  0.01  3214.35  90.72  0.0  116.4  0.0  0.0  79.0   False\n",
       "4  6813.43  0.01  3214.35  90.72  0.0  116.4  0.0  0.0  78.0   False"
      ]
     },
     "execution_count": 3,
     "metadata": {},
     "output_type": "execute_result"
    }
   ],
   "source": [
    "# Head of dataset\n",
    "dataset.head()"
   ]
  },
  {
   "cell_type": "code",
   "execution_count": 4,
   "metadata": {},
   "outputs": [
    {
     "data": {
      "text/plain": [
       "(86341, 10)"
      ]
     },
     "execution_count": 4,
     "metadata": {},
     "output_type": "execute_result"
    }
   ],
   "source": [
    "# Shape of dataset\n",
    "dataset.shape\n",
    "# So, the dataset contains 10 columns and 86341 records\n",
    "# 9 independent variables and 1 target variable 'Binary'"
   ]
  },
  {
   "cell_type": "code",
   "execution_count": 5,
   "metadata": {
    "collapsed": true
   },
   "outputs": [],
   "source": [
    "#RENAMING TARGET ATTRIBUTE NAME AS Target\n",
    "dataset = dataset.rename(index=str, columns={\"Binary\": \"Target\"})"
   ]
  },
  {
   "cell_type": "code",
   "execution_count": 6,
   "metadata": {
    "collapsed": true
   },
   "outputs": [],
   "source": [
    "# REPLACING FALSE = 0 and TRUE = 1\n",
    "dataset.loc[dataset[\"Target\"].astype(str) == 'False', 'Target'] = '0'\n",
    "dataset.loc[dataset[\"Target\"].astype(str) == 'True', 'Target'] = '1'"
   ]
  },
  {
   "cell_type": "markdown",
   "metadata": {},
   "source": [
    "# DESCRIPTIVE STATISTICS"
   ]
  },
  {
   "cell_type": "code",
   "execution_count": 7,
   "metadata": {},
   "outputs": [
    {
     "data": {
      "text/html": [
       "<div>\n",
       "<style>\n",
       "    .dataframe thead tr:only-child th {\n",
       "        text-align: right;\n",
       "    }\n",
       "\n",
       "    .dataframe thead th {\n",
       "        text-align: left;\n",
       "    }\n",
       "\n",
       "    .dataframe tbody tr th {\n",
       "        vertical-align: top;\n",
       "    }\n",
       "</style>\n",
       "<table border=\"1\" class=\"dataframe\">\n",
       "  <thead>\n",
       "    <tr style=\"text-align: right;\">\n",
       "      <th></th>\n",
       "      <th>A</th>\n",
       "      <th>B</th>\n",
       "      <th>C</th>\n",
       "      <th>D</th>\n",
       "      <th>E</th>\n",
       "      <th>F</th>\n",
       "      <th>G</th>\n",
       "      <th>H</th>\n",
       "      <th>I</th>\n",
       "    </tr>\n",
       "  </thead>\n",
       "  <tbody>\n",
       "    <tr>\n",
       "      <th>count</th>\n",
       "      <td>86341.000000</td>\n",
       "      <td>86341.000000</td>\n",
       "      <td>86341.000000</td>\n",
       "      <td>86341.000000</td>\n",
       "      <td>86341.000000</td>\n",
       "      <td>86341.000000</td>\n",
       "      <td>86341.000000</td>\n",
       "      <td>86341.000000</td>\n",
       "      <td>86341.000000</td>\n",
       "    </tr>\n",
       "    <tr>\n",
       "      <th>mean</th>\n",
       "      <td>7301.101464</td>\n",
       "      <td>11.671432</td>\n",
       "      <td>7057.825031</td>\n",
       "      <td>46.184679</td>\n",
       "      <td>6.102335</td>\n",
       "      <td>193.009552</td>\n",
       "      <td>94.168865</td>\n",
       "      <td>14589.581763</td>\n",
       "      <td>2270.765592</td>\n",
       "    </tr>\n",
       "    <tr>\n",
       "      <th>std</th>\n",
       "      <td>470.019541</td>\n",
       "      <td>8.795040</td>\n",
       "      <td>996.846036</td>\n",
       "      <td>35.592912</td>\n",
       "      <td>10.582727</td>\n",
       "      <td>31.888536</td>\n",
       "      <td>77.929572</td>\n",
       "      <td>11738.389829</td>\n",
       "      <td>1138.337244</td>\n",
       "    </tr>\n",
       "    <tr>\n",
       "      <th>min</th>\n",
       "      <td>-999.250000</td>\n",
       "      <td>-999.250000</td>\n",
       "      <td>-999.250000</td>\n",
       "      <td>-999.250000</td>\n",
       "      <td>-999.250000</td>\n",
       "      <td>-999.250000</td>\n",
       "      <td>-999.250000</td>\n",
       "      <td>-999.250000</td>\n",
       "      <td>-999.250000</td>\n",
       "    </tr>\n",
       "    <tr>\n",
       "      <th>25%</th>\n",
       "      <td>6862.830000</td>\n",
       "      <td>11.560000</td>\n",
       "      <td>6848.330000</td>\n",
       "      <td>11.780000</td>\n",
       "      <td>0.000000</td>\n",
       "      <td>193.300000</td>\n",
       "      <td>0.000000</td>\n",
       "      <td>0.000000</td>\n",
       "      <td>1864.000000</td>\n",
       "    </tr>\n",
       "    <tr>\n",
       "      <th>50%</th>\n",
       "      <td>7144.680000</td>\n",
       "      <td>14.930000</td>\n",
       "      <td>7143.530000</td>\n",
       "      <td>46.410000</td>\n",
       "      <td>0.000000</td>\n",
       "      <td>199.100000</td>\n",
       "      <td>81.000000</td>\n",
       "      <td>14417.000000</td>\n",
       "      <td>2876.000000</td>\n",
       "    </tr>\n",
       "    <tr>\n",
       "      <th>75%</th>\n",
       "      <td>7690.030000</td>\n",
       "      <td>14.990000</td>\n",
       "      <td>7676.290000</td>\n",
       "      <td>82.870000</td>\n",
       "      <td>14.300000</td>\n",
       "      <td>210.000000</td>\n",
       "      <td>166.000000</td>\n",
       "      <td>23562.000000</td>\n",
       "      <td>3099.000000</td>\n",
       "    </tr>\n",
       "    <tr>\n",
       "      <th>max</th>\n",
       "      <td>8186.380000</td>\n",
       "      <td>15.260000</td>\n",
       "      <td>8186.380000</td>\n",
       "      <td>100.060000</td>\n",
       "      <td>104.300000</td>\n",
       "      <td>274.200000</td>\n",
       "      <td>204.000000</td>\n",
       "      <td>56382.000000</td>\n",
       "      <td>3543.000000</td>\n",
       "    </tr>\n",
       "  </tbody>\n",
       "</table>\n",
       "</div>"
      ],
      "text/plain": [
       "                  A             B             C             D             E  \\\n",
       "count  86341.000000  86341.000000  86341.000000  86341.000000  86341.000000   \n",
       "mean    7301.101464     11.671432   7057.825031     46.184679      6.102335   \n",
       "std      470.019541      8.795040    996.846036     35.592912     10.582727   \n",
       "min     -999.250000   -999.250000   -999.250000   -999.250000   -999.250000   \n",
       "25%     6862.830000     11.560000   6848.330000     11.780000      0.000000   \n",
       "50%     7144.680000     14.930000   7143.530000     46.410000      0.000000   \n",
       "75%     7690.030000     14.990000   7676.290000     82.870000     14.300000   \n",
       "max     8186.380000     15.260000   8186.380000    100.060000    104.300000   \n",
       "\n",
       "                  F             G             H             I  \n",
       "count  86341.000000  86341.000000  86341.000000  86341.000000  \n",
       "mean     193.009552     94.168865  14589.581763   2270.765592  \n",
       "std       31.888536     77.929572  11738.389829   1138.337244  \n",
       "min     -999.250000   -999.250000   -999.250000   -999.250000  \n",
       "25%      193.300000      0.000000      0.000000   1864.000000  \n",
       "50%      199.100000     81.000000  14417.000000   2876.000000  \n",
       "75%      210.000000    166.000000  23562.000000   3099.000000  \n",
       "max      274.200000    204.000000  56382.000000   3543.000000  "
      ]
     },
     "execution_count": 7,
     "metadata": {},
     "output_type": "execute_result"
    }
   ],
   "source": [
    "# Summarizing the central tendency, dispersion and shape of a dataset’s distribution, excluding NaN values\n",
    "dataset.describe()"
   ]
  },
  {
   "cell_type": "code",
   "execution_count": 8,
   "metadata": {},
   "outputs": [
    {
     "data": {
      "text/html": [
       "<div>\n",
       "<style>\n",
       "    .dataframe thead tr:only-child th {\n",
       "        text-align: right;\n",
       "    }\n",
       "\n",
       "    .dataframe thead th {\n",
       "        text-align: left;\n",
       "    }\n",
       "\n",
       "    .dataframe tbody tr th {\n",
       "        vertical-align: top;\n",
       "    }\n",
       "</style>\n",
       "<table border=\"1\" class=\"dataframe\">\n",
       "  <thead>\n",
       "    <tr style=\"text-align: right;\">\n",
       "      <th></th>\n",
       "      <th>A</th>\n",
       "      <th>B</th>\n",
       "      <th>C</th>\n",
       "      <th>D</th>\n",
       "      <th>E</th>\n",
       "      <th>F</th>\n",
       "      <th>G</th>\n",
       "      <th>H</th>\n",
       "      <th>I</th>\n",
       "      <th>Target</th>\n",
       "    </tr>\n",
       "  </thead>\n",
       "  <tbody>\n",
       "    <tr>\n",
       "      <th>50339</th>\n",
       "      <td>-999.25</td>\n",
       "      <td>-999.25</td>\n",
       "      <td>-999.25</td>\n",
       "      <td>-999.25</td>\n",
       "      <td>-999.25</td>\n",
       "      <td>-999.25</td>\n",
       "      <td>-999.25</td>\n",
       "      <td>-999.25</td>\n",
       "      <td>-999.25</td>\n",
       "      <td>1</td>\n",
       "    </tr>\n",
       "    <tr>\n",
       "      <th>50340</th>\n",
       "      <td>-999.25</td>\n",
       "      <td>-999.25</td>\n",
       "      <td>-999.25</td>\n",
       "      <td>-999.25</td>\n",
       "      <td>-999.25</td>\n",
       "      <td>-999.25</td>\n",
       "      <td>-999.25</td>\n",
       "      <td>-999.25</td>\n",
       "      <td>-999.25</td>\n",
       "      <td>1</td>\n",
       "    </tr>\n",
       "  </tbody>\n",
       "</table>\n",
       "</div>"
      ],
      "text/plain": [
       "            A       B       C       D       E       F       G       H       I  \\\n",
       "50339 -999.25 -999.25 -999.25 -999.25 -999.25 -999.25 -999.25 -999.25 -999.25   \n",
       "50340 -999.25 -999.25 -999.25 -999.25 -999.25 -999.25 -999.25 -999.25 -999.25   \n",
       "\n",
       "      Target  \n",
       "50339      1  \n",
       "50340      1  "
      ]
     },
     "execution_count": 8,
     "metadata": {},
     "output_type": "execute_result"
    }
   ],
   "source": [
    "# From the descriptive statistics it is evident that the Data has Anamoly containing -999.25 in all columns\n",
    "# Checking for -999.25 in each column\n",
    "dataset[dataset['A'] == -999.25]"
   ]
  },
  {
   "cell_type": "code",
   "execution_count": 9,
   "metadata": {},
   "outputs": [
    {
     "data": {
      "text/html": [
       "<div>\n",
       "<style>\n",
       "    .dataframe thead tr:only-child th {\n",
       "        text-align: right;\n",
       "    }\n",
       "\n",
       "    .dataframe thead th {\n",
       "        text-align: left;\n",
       "    }\n",
       "\n",
       "    .dataframe tbody tr th {\n",
       "        vertical-align: top;\n",
       "    }\n",
       "</style>\n",
       "<table border=\"1\" class=\"dataframe\">\n",
       "  <thead>\n",
       "    <tr style=\"text-align: right;\">\n",
       "      <th></th>\n",
       "      <th>A</th>\n",
       "      <th>B</th>\n",
       "      <th>C</th>\n",
       "      <th>D</th>\n",
       "      <th>E</th>\n",
       "      <th>F</th>\n",
       "      <th>G</th>\n",
       "      <th>H</th>\n",
       "      <th>I</th>\n",
       "      <th>Target</th>\n",
       "    </tr>\n",
       "  </thead>\n",
       "  <tbody>\n",
       "    <tr>\n",
       "      <th>50338</th>\n",
       "      <td>7395.63</td>\n",
       "      <td>-999.25</td>\n",
       "      <td>-999.25</td>\n",
       "      <td>-999.25</td>\n",
       "      <td>-999.25</td>\n",
       "      <td>-999.25</td>\n",
       "      <td>-999.25</td>\n",
       "      <td>-999.25</td>\n",
       "      <td>-999.25</td>\n",
       "      <td>1</td>\n",
       "    </tr>\n",
       "    <tr>\n",
       "      <th>50339</th>\n",
       "      <td>-999.25</td>\n",
       "      <td>-999.25</td>\n",
       "      <td>-999.25</td>\n",
       "      <td>-999.25</td>\n",
       "      <td>-999.25</td>\n",
       "      <td>-999.25</td>\n",
       "      <td>-999.25</td>\n",
       "      <td>-999.25</td>\n",
       "      <td>-999.25</td>\n",
       "      <td>1</td>\n",
       "    </tr>\n",
       "    <tr>\n",
       "      <th>50340</th>\n",
       "      <td>-999.25</td>\n",
       "      <td>-999.25</td>\n",
       "      <td>-999.25</td>\n",
       "      <td>-999.25</td>\n",
       "      <td>-999.25</td>\n",
       "      <td>-999.25</td>\n",
       "      <td>-999.25</td>\n",
       "      <td>-999.25</td>\n",
       "      <td>-999.25</td>\n",
       "      <td>1</td>\n",
       "    </tr>\n",
       "    <tr>\n",
       "      <th>78158</th>\n",
       "      <td>8050.89</td>\n",
       "      <td>-999.25</td>\n",
       "      <td>-999.25</td>\n",
       "      <td>-999.25</td>\n",
       "      <td>-999.25</td>\n",
       "      <td>-999.25</td>\n",
       "      <td>-999.25</td>\n",
       "      <td>-999.25</td>\n",
       "      <td>-999.25</td>\n",
       "      <td>1</td>\n",
       "    </tr>\n",
       "  </tbody>\n",
       "</table>\n",
       "</div>"
      ],
      "text/plain": [
       "             A       B       C       D       E       F       G       H  \\\n",
       "50338  7395.63 -999.25 -999.25 -999.25 -999.25 -999.25 -999.25 -999.25   \n",
       "50339  -999.25 -999.25 -999.25 -999.25 -999.25 -999.25 -999.25 -999.25   \n",
       "50340  -999.25 -999.25 -999.25 -999.25 -999.25 -999.25 -999.25 -999.25   \n",
       "78158  8050.89 -999.25 -999.25 -999.25 -999.25 -999.25 -999.25 -999.25   \n",
       "\n",
       "            I Target  \n",
       "50338 -999.25      1  \n",
       "50339 -999.25      1  \n",
       "50340 -999.25      1  \n",
       "78158 -999.25      1  "
      ]
     },
     "execution_count": 9,
     "metadata": {},
     "output_type": "execute_result"
    }
   ],
   "source": [
    "dataset[dataset['B'] == -999.25]"
   ]
  },
  {
   "cell_type": "code",
   "execution_count": 10,
   "metadata": {},
   "outputs": [
    {
     "data": {
      "text/html": [
       "<div>\n",
       "<style>\n",
       "    .dataframe thead tr:only-child th {\n",
       "        text-align: right;\n",
       "    }\n",
       "\n",
       "    .dataframe thead th {\n",
       "        text-align: left;\n",
       "    }\n",
       "\n",
       "    .dataframe tbody tr th {\n",
       "        vertical-align: top;\n",
       "    }\n",
       "</style>\n",
       "<table border=\"1\" class=\"dataframe\">\n",
       "  <thead>\n",
       "    <tr style=\"text-align: right;\">\n",
       "      <th></th>\n",
       "      <th>A</th>\n",
       "      <th>B</th>\n",
       "      <th>C</th>\n",
       "      <th>D</th>\n",
       "      <th>E</th>\n",
       "      <th>F</th>\n",
       "      <th>G</th>\n",
       "      <th>H</th>\n",
       "      <th>I</th>\n",
       "      <th>Target</th>\n",
       "    </tr>\n",
       "  </thead>\n",
       "  <tbody>\n",
       "    <tr>\n",
       "      <th>50338</th>\n",
       "      <td>7395.63</td>\n",
       "      <td>-999.25</td>\n",
       "      <td>-999.25</td>\n",
       "      <td>-999.25</td>\n",
       "      <td>-999.25</td>\n",
       "      <td>-999.25</td>\n",
       "      <td>-999.25</td>\n",
       "      <td>-999.25</td>\n",
       "      <td>-999.25</td>\n",
       "      <td>1</td>\n",
       "    </tr>\n",
       "    <tr>\n",
       "      <th>50339</th>\n",
       "      <td>-999.25</td>\n",
       "      <td>-999.25</td>\n",
       "      <td>-999.25</td>\n",
       "      <td>-999.25</td>\n",
       "      <td>-999.25</td>\n",
       "      <td>-999.25</td>\n",
       "      <td>-999.25</td>\n",
       "      <td>-999.25</td>\n",
       "      <td>-999.25</td>\n",
       "      <td>1</td>\n",
       "    </tr>\n",
       "    <tr>\n",
       "      <th>50340</th>\n",
       "      <td>-999.25</td>\n",
       "      <td>-999.25</td>\n",
       "      <td>-999.25</td>\n",
       "      <td>-999.25</td>\n",
       "      <td>-999.25</td>\n",
       "      <td>-999.25</td>\n",
       "      <td>-999.25</td>\n",
       "      <td>-999.25</td>\n",
       "      <td>-999.25</td>\n",
       "      <td>1</td>\n",
       "    </tr>\n",
       "    <tr>\n",
       "      <th>78158</th>\n",
       "      <td>8050.89</td>\n",
       "      <td>-999.25</td>\n",
       "      <td>-999.25</td>\n",
       "      <td>-999.25</td>\n",
       "      <td>-999.25</td>\n",
       "      <td>-999.25</td>\n",
       "      <td>-999.25</td>\n",
       "      <td>-999.25</td>\n",
       "      <td>-999.25</td>\n",
       "      <td>1</td>\n",
       "    </tr>\n",
       "  </tbody>\n",
       "</table>\n",
       "</div>"
      ],
      "text/plain": [
       "             A       B       C       D       E       F       G       H  \\\n",
       "50338  7395.63 -999.25 -999.25 -999.25 -999.25 -999.25 -999.25 -999.25   \n",
       "50339  -999.25 -999.25 -999.25 -999.25 -999.25 -999.25 -999.25 -999.25   \n",
       "50340  -999.25 -999.25 -999.25 -999.25 -999.25 -999.25 -999.25 -999.25   \n",
       "78158  8050.89 -999.25 -999.25 -999.25 -999.25 -999.25 -999.25 -999.25   \n",
       "\n",
       "            I Target  \n",
       "50338 -999.25      1  \n",
       "50339 -999.25      1  \n",
       "50340 -999.25      1  \n",
       "78158 -999.25      1  "
      ]
     },
     "execution_count": 10,
     "metadata": {},
     "output_type": "execute_result"
    }
   ],
   "source": [
    "dataset[dataset['C'] == -999.25]"
   ]
  },
  {
   "cell_type": "code",
   "execution_count": 11,
   "metadata": {},
   "outputs": [
    {
     "data": {
      "text/html": [
       "<div>\n",
       "<style>\n",
       "    .dataframe thead tr:only-child th {\n",
       "        text-align: right;\n",
       "    }\n",
       "\n",
       "    .dataframe thead th {\n",
       "        text-align: left;\n",
       "    }\n",
       "\n",
       "    .dataframe tbody tr th {\n",
       "        vertical-align: top;\n",
       "    }\n",
       "</style>\n",
       "<table border=\"1\" class=\"dataframe\">\n",
       "  <thead>\n",
       "    <tr style=\"text-align: right;\">\n",
       "      <th></th>\n",
       "      <th>A</th>\n",
       "      <th>B</th>\n",
       "      <th>C</th>\n",
       "      <th>D</th>\n",
       "      <th>E</th>\n",
       "      <th>F</th>\n",
       "      <th>G</th>\n",
       "      <th>H</th>\n",
       "      <th>I</th>\n",
       "      <th>Target</th>\n",
       "    </tr>\n",
       "  </thead>\n",
       "  <tbody>\n",
       "    <tr>\n",
       "      <th>50338</th>\n",
       "      <td>7395.63</td>\n",
       "      <td>-999.25</td>\n",
       "      <td>-999.25</td>\n",
       "      <td>-999.25</td>\n",
       "      <td>-999.25</td>\n",
       "      <td>-999.25</td>\n",
       "      <td>-999.25</td>\n",
       "      <td>-999.25</td>\n",
       "      <td>-999.25</td>\n",
       "      <td>1</td>\n",
       "    </tr>\n",
       "    <tr>\n",
       "      <th>50339</th>\n",
       "      <td>-999.25</td>\n",
       "      <td>-999.25</td>\n",
       "      <td>-999.25</td>\n",
       "      <td>-999.25</td>\n",
       "      <td>-999.25</td>\n",
       "      <td>-999.25</td>\n",
       "      <td>-999.25</td>\n",
       "      <td>-999.25</td>\n",
       "      <td>-999.25</td>\n",
       "      <td>1</td>\n",
       "    </tr>\n",
       "    <tr>\n",
       "      <th>50340</th>\n",
       "      <td>-999.25</td>\n",
       "      <td>-999.25</td>\n",
       "      <td>-999.25</td>\n",
       "      <td>-999.25</td>\n",
       "      <td>-999.25</td>\n",
       "      <td>-999.25</td>\n",
       "      <td>-999.25</td>\n",
       "      <td>-999.25</td>\n",
       "      <td>-999.25</td>\n",
       "      <td>1</td>\n",
       "    </tr>\n",
       "    <tr>\n",
       "      <th>78158</th>\n",
       "      <td>8050.89</td>\n",
       "      <td>-999.25</td>\n",
       "      <td>-999.25</td>\n",
       "      <td>-999.25</td>\n",
       "      <td>-999.25</td>\n",
       "      <td>-999.25</td>\n",
       "      <td>-999.25</td>\n",
       "      <td>-999.25</td>\n",
       "      <td>-999.25</td>\n",
       "      <td>1</td>\n",
       "    </tr>\n",
       "  </tbody>\n",
       "</table>\n",
       "</div>"
      ],
      "text/plain": [
       "             A       B       C       D       E       F       G       H  \\\n",
       "50338  7395.63 -999.25 -999.25 -999.25 -999.25 -999.25 -999.25 -999.25   \n",
       "50339  -999.25 -999.25 -999.25 -999.25 -999.25 -999.25 -999.25 -999.25   \n",
       "50340  -999.25 -999.25 -999.25 -999.25 -999.25 -999.25 -999.25 -999.25   \n",
       "78158  8050.89 -999.25 -999.25 -999.25 -999.25 -999.25 -999.25 -999.25   \n",
       "\n",
       "            I Target  \n",
       "50338 -999.25      1  \n",
       "50339 -999.25      1  \n",
       "50340 -999.25      1  \n",
       "78158 -999.25      1  "
      ]
     },
     "execution_count": 11,
     "metadata": {},
     "output_type": "execute_result"
    }
   ],
   "source": [
    "dataset[dataset['D'] == -999.25]"
   ]
  },
  {
   "cell_type": "code",
   "execution_count": 12,
   "metadata": {},
   "outputs": [
    {
     "data": {
      "text/html": [
       "<div>\n",
       "<style>\n",
       "    .dataframe thead tr:only-child th {\n",
       "        text-align: right;\n",
       "    }\n",
       "\n",
       "    .dataframe thead th {\n",
       "        text-align: left;\n",
       "    }\n",
       "\n",
       "    .dataframe tbody tr th {\n",
       "        vertical-align: top;\n",
       "    }\n",
       "</style>\n",
       "<table border=\"1\" class=\"dataframe\">\n",
       "  <thead>\n",
       "    <tr style=\"text-align: right;\">\n",
       "      <th></th>\n",
       "      <th>A</th>\n",
       "      <th>B</th>\n",
       "      <th>C</th>\n",
       "      <th>D</th>\n",
       "      <th>E</th>\n",
       "      <th>F</th>\n",
       "      <th>G</th>\n",
       "      <th>H</th>\n",
       "      <th>I</th>\n",
       "      <th>Target</th>\n",
       "    </tr>\n",
       "  </thead>\n",
       "  <tbody>\n",
       "    <tr>\n",
       "      <th>50338</th>\n",
       "      <td>7395.63</td>\n",
       "      <td>-999.25</td>\n",
       "      <td>-999.25</td>\n",
       "      <td>-999.25</td>\n",
       "      <td>-999.25</td>\n",
       "      <td>-999.25</td>\n",
       "      <td>-999.25</td>\n",
       "      <td>-999.25</td>\n",
       "      <td>-999.25</td>\n",
       "      <td>1</td>\n",
       "    </tr>\n",
       "    <tr>\n",
       "      <th>50339</th>\n",
       "      <td>-999.25</td>\n",
       "      <td>-999.25</td>\n",
       "      <td>-999.25</td>\n",
       "      <td>-999.25</td>\n",
       "      <td>-999.25</td>\n",
       "      <td>-999.25</td>\n",
       "      <td>-999.25</td>\n",
       "      <td>-999.25</td>\n",
       "      <td>-999.25</td>\n",
       "      <td>1</td>\n",
       "    </tr>\n",
       "    <tr>\n",
       "      <th>50340</th>\n",
       "      <td>-999.25</td>\n",
       "      <td>-999.25</td>\n",
       "      <td>-999.25</td>\n",
       "      <td>-999.25</td>\n",
       "      <td>-999.25</td>\n",
       "      <td>-999.25</td>\n",
       "      <td>-999.25</td>\n",
       "      <td>-999.25</td>\n",
       "      <td>-999.25</td>\n",
       "      <td>1</td>\n",
       "    </tr>\n",
       "    <tr>\n",
       "      <th>78158</th>\n",
       "      <td>8050.89</td>\n",
       "      <td>-999.25</td>\n",
       "      <td>-999.25</td>\n",
       "      <td>-999.25</td>\n",
       "      <td>-999.25</td>\n",
       "      <td>-999.25</td>\n",
       "      <td>-999.25</td>\n",
       "      <td>-999.25</td>\n",
       "      <td>-999.25</td>\n",
       "      <td>1</td>\n",
       "    </tr>\n",
       "  </tbody>\n",
       "</table>\n",
       "</div>"
      ],
      "text/plain": [
       "             A       B       C       D       E       F       G       H  \\\n",
       "50338  7395.63 -999.25 -999.25 -999.25 -999.25 -999.25 -999.25 -999.25   \n",
       "50339  -999.25 -999.25 -999.25 -999.25 -999.25 -999.25 -999.25 -999.25   \n",
       "50340  -999.25 -999.25 -999.25 -999.25 -999.25 -999.25 -999.25 -999.25   \n",
       "78158  8050.89 -999.25 -999.25 -999.25 -999.25 -999.25 -999.25 -999.25   \n",
       "\n",
       "            I Target  \n",
       "50338 -999.25      1  \n",
       "50339 -999.25      1  \n",
       "50340 -999.25      1  \n",
       "78158 -999.25      1  "
      ]
     },
     "execution_count": 12,
     "metadata": {},
     "output_type": "execute_result"
    }
   ],
   "source": [
    "dataset[dataset['E'] == -999.25]"
   ]
  },
  {
   "cell_type": "code",
   "execution_count": 13,
   "metadata": {},
   "outputs": [
    {
     "data": {
      "text/html": [
       "<div>\n",
       "<style>\n",
       "    .dataframe thead tr:only-child th {\n",
       "        text-align: right;\n",
       "    }\n",
       "\n",
       "    .dataframe thead th {\n",
       "        text-align: left;\n",
       "    }\n",
       "\n",
       "    .dataframe tbody tr th {\n",
       "        vertical-align: top;\n",
       "    }\n",
       "</style>\n",
       "<table border=\"1\" class=\"dataframe\">\n",
       "  <thead>\n",
       "    <tr style=\"text-align: right;\">\n",
       "      <th></th>\n",
       "      <th>A</th>\n",
       "      <th>B</th>\n",
       "      <th>C</th>\n",
       "      <th>D</th>\n",
       "      <th>E</th>\n",
       "      <th>F</th>\n",
       "      <th>G</th>\n",
       "      <th>H</th>\n",
       "      <th>I</th>\n",
       "      <th>Target</th>\n",
       "    </tr>\n",
       "  </thead>\n",
       "  <tbody>\n",
       "    <tr>\n",
       "      <th>50338</th>\n",
       "      <td>7395.63</td>\n",
       "      <td>-999.25</td>\n",
       "      <td>-999.25</td>\n",
       "      <td>-999.25</td>\n",
       "      <td>-999.25</td>\n",
       "      <td>-999.25</td>\n",
       "      <td>-999.25</td>\n",
       "      <td>-999.25</td>\n",
       "      <td>-999.25</td>\n",
       "      <td>1</td>\n",
       "    </tr>\n",
       "    <tr>\n",
       "      <th>50339</th>\n",
       "      <td>-999.25</td>\n",
       "      <td>-999.25</td>\n",
       "      <td>-999.25</td>\n",
       "      <td>-999.25</td>\n",
       "      <td>-999.25</td>\n",
       "      <td>-999.25</td>\n",
       "      <td>-999.25</td>\n",
       "      <td>-999.25</td>\n",
       "      <td>-999.25</td>\n",
       "      <td>1</td>\n",
       "    </tr>\n",
       "    <tr>\n",
       "      <th>50340</th>\n",
       "      <td>-999.25</td>\n",
       "      <td>-999.25</td>\n",
       "      <td>-999.25</td>\n",
       "      <td>-999.25</td>\n",
       "      <td>-999.25</td>\n",
       "      <td>-999.25</td>\n",
       "      <td>-999.25</td>\n",
       "      <td>-999.25</td>\n",
       "      <td>-999.25</td>\n",
       "      <td>1</td>\n",
       "    </tr>\n",
       "    <tr>\n",
       "      <th>78158</th>\n",
       "      <td>8050.89</td>\n",
       "      <td>-999.25</td>\n",
       "      <td>-999.25</td>\n",
       "      <td>-999.25</td>\n",
       "      <td>-999.25</td>\n",
       "      <td>-999.25</td>\n",
       "      <td>-999.25</td>\n",
       "      <td>-999.25</td>\n",
       "      <td>-999.25</td>\n",
       "      <td>1</td>\n",
       "    </tr>\n",
       "  </tbody>\n",
       "</table>\n",
       "</div>"
      ],
      "text/plain": [
       "             A       B       C       D       E       F       G       H  \\\n",
       "50338  7395.63 -999.25 -999.25 -999.25 -999.25 -999.25 -999.25 -999.25   \n",
       "50339  -999.25 -999.25 -999.25 -999.25 -999.25 -999.25 -999.25 -999.25   \n",
       "50340  -999.25 -999.25 -999.25 -999.25 -999.25 -999.25 -999.25 -999.25   \n",
       "78158  8050.89 -999.25 -999.25 -999.25 -999.25 -999.25 -999.25 -999.25   \n",
       "\n",
       "            I Target  \n",
       "50338 -999.25      1  \n",
       "50339 -999.25      1  \n",
       "50340 -999.25      1  \n",
       "78158 -999.25      1  "
      ]
     },
     "execution_count": 13,
     "metadata": {},
     "output_type": "execute_result"
    }
   ],
   "source": [
    "dataset[dataset['F'] == -999.25]"
   ]
  },
  {
   "cell_type": "code",
   "execution_count": 14,
   "metadata": {},
   "outputs": [
    {
     "data": {
      "text/html": [
       "<div>\n",
       "<style>\n",
       "    .dataframe thead tr:only-child th {\n",
       "        text-align: right;\n",
       "    }\n",
       "\n",
       "    .dataframe thead th {\n",
       "        text-align: left;\n",
       "    }\n",
       "\n",
       "    .dataframe tbody tr th {\n",
       "        vertical-align: top;\n",
       "    }\n",
       "</style>\n",
       "<table border=\"1\" class=\"dataframe\">\n",
       "  <thead>\n",
       "    <tr style=\"text-align: right;\">\n",
       "      <th></th>\n",
       "      <th>A</th>\n",
       "      <th>B</th>\n",
       "      <th>C</th>\n",
       "      <th>D</th>\n",
       "      <th>E</th>\n",
       "      <th>F</th>\n",
       "      <th>G</th>\n",
       "      <th>H</th>\n",
       "      <th>I</th>\n",
       "      <th>Target</th>\n",
       "    </tr>\n",
       "  </thead>\n",
       "  <tbody>\n",
       "    <tr>\n",
       "      <th>50338</th>\n",
       "      <td>7395.63</td>\n",
       "      <td>-999.25</td>\n",
       "      <td>-999.25</td>\n",
       "      <td>-999.25</td>\n",
       "      <td>-999.25</td>\n",
       "      <td>-999.25</td>\n",
       "      <td>-999.25</td>\n",
       "      <td>-999.25</td>\n",
       "      <td>-999.25</td>\n",
       "      <td>1</td>\n",
       "    </tr>\n",
       "    <tr>\n",
       "      <th>50339</th>\n",
       "      <td>-999.25</td>\n",
       "      <td>-999.25</td>\n",
       "      <td>-999.25</td>\n",
       "      <td>-999.25</td>\n",
       "      <td>-999.25</td>\n",
       "      <td>-999.25</td>\n",
       "      <td>-999.25</td>\n",
       "      <td>-999.25</td>\n",
       "      <td>-999.25</td>\n",
       "      <td>1</td>\n",
       "    </tr>\n",
       "    <tr>\n",
       "      <th>50340</th>\n",
       "      <td>-999.25</td>\n",
       "      <td>-999.25</td>\n",
       "      <td>-999.25</td>\n",
       "      <td>-999.25</td>\n",
       "      <td>-999.25</td>\n",
       "      <td>-999.25</td>\n",
       "      <td>-999.25</td>\n",
       "      <td>-999.25</td>\n",
       "      <td>-999.25</td>\n",
       "      <td>1</td>\n",
       "    </tr>\n",
       "    <tr>\n",
       "      <th>78158</th>\n",
       "      <td>8050.89</td>\n",
       "      <td>-999.25</td>\n",
       "      <td>-999.25</td>\n",
       "      <td>-999.25</td>\n",
       "      <td>-999.25</td>\n",
       "      <td>-999.25</td>\n",
       "      <td>-999.25</td>\n",
       "      <td>-999.25</td>\n",
       "      <td>-999.25</td>\n",
       "      <td>1</td>\n",
       "    </tr>\n",
       "  </tbody>\n",
       "</table>\n",
       "</div>"
      ],
      "text/plain": [
       "             A       B       C       D       E       F       G       H  \\\n",
       "50338  7395.63 -999.25 -999.25 -999.25 -999.25 -999.25 -999.25 -999.25   \n",
       "50339  -999.25 -999.25 -999.25 -999.25 -999.25 -999.25 -999.25 -999.25   \n",
       "50340  -999.25 -999.25 -999.25 -999.25 -999.25 -999.25 -999.25 -999.25   \n",
       "78158  8050.89 -999.25 -999.25 -999.25 -999.25 -999.25 -999.25 -999.25   \n",
       "\n",
       "            I Target  \n",
       "50338 -999.25      1  \n",
       "50339 -999.25      1  \n",
       "50340 -999.25      1  \n",
       "78158 -999.25      1  "
      ]
     },
     "execution_count": 14,
     "metadata": {},
     "output_type": "execute_result"
    }
   ],
   "source": [
    "dataset[dataset['G'] == -999.25]"
   ]
  },
  {
   "cell_type": "code",
   "execution_count": 15,
   "metadata": {},
   "outputs": [
    {
     "data": {
      "text/html": [
       "<div>\n",
       "<style>\n",
       "    .dataframe thead tr:only-child th {\n",
       "        text-align: right;\n",
       "    }\n",
       "\n",
       "    .dataframe thead th {\n",
       "        text-align: left;\n",
       "    }\n",
       "\n",
       "    .dataframe tbody tr th {\n",
       "        vertical-align: top;\n",
       "    }\n",
       "</style>\n",
       "<table border=\"1\" class=\"dataframe\">\n",
       "  <thead>\n",
       "    <tr style=\"text-align: right;\">\n",
       "      <th></th>\n",
       "      <th>A</th>\n",
       "      <th>B</th>\n",
       "      <th>C</th>\n",
       "      <th>D</th>\n",
       "      <th>E</th>\n",
       "      <th>F</th>\n",
       "      <th>G</th>\n",
       "      <th>H</th>\n",
       "      <th>I</th>\n",
       "      <th>Target</th>\n",
       "    </tr>\n",
       "  </thead>\n",
       "  <tbody>\n",
       "    <tr>\n",
       "      <th>50338</th>\n",
       "      <td>7395.63</td>\n",
       "      <td>-999.25</td>\n",
       "      <td>-999.25</td>\n",
       "      <td>-999.25</td>\n",
       "      <td>-999.25</td>\n",
       "      <td>-999.25</td>\n",
       "      <td>-999.25</td>\n",
       "      <td>-999.25</td>\n",
       "      <td>-999.25</td>\n",
       "      <td>1</td>\n",
       "    </tr>\n",
       "    <tr>\n",
       "      <th>50339</th>\n",
       "      <td>-999.25</td>\n",
       "      <td>-999.25</td>\n",
       "      <td>-999.25</td>\n",
       "      <td>-999.25</td>\n",
       "      <td>-999.25</td>\n",
       "      <td>-999.25</td>\n",
       "      <td>-999.25</td>\n",
       "      <td>-999.25</td>\n",
       "      <td>-999.25</td>\n",
       "      <td>1</td>\n",
       "    </tr>\n",
       "    <tr>\n",
       "      <th>50340</th>\n",
       "      <td>-999.25</td>\n",
       "      <td>-999.25</td>\n",
       "      <td>-999.25</td>\n",
       "      <td>-999.25</td>\n",
       "      <td>-999.25</td>\n",
       "      <td>-999.25</td>\n",
       "      <td>-999.25</td>\n",
       "      <td>-999.25</td>\n",
       "      <td>-999.25</td>\n",
       "      <td>1</td>\n",
       "    </tr>\n",
       "    <tr>\n",
       "      <th>78158</th>\n",
       "      <td>8050.89</td>\n",
       "      <td>-999.25</td>\n",
       "      <td>-999.25</td>\n",
       "      <td>-999.25</td>\n",
       "      <td>-999.25</td>\n",
       "      <td>-999.25</td>\n",
       "      <td>-999.25</td>\n",
       "      <td>-999.25</td>\n",
       "      <td>-999.25</td>\n",
       "      <td>1</td>\n",
       "    </tr>\n",
       "  </tbody>\n",
       "</table>\n",
       "</div>"
      ],
      "text/plain": [
       "             A       B       C       D       E       F       G       H  \\\n",
       "50338  7395.63 -999.25 -999.25 -999.25 -999.25 -999.25 -999.25 -999.25   \n",
       "50339  -999.25 -999.25 -999.25 -999.25 -999.25 -999.25 -999.25 -999.25   \n",
       "50340  -999.25 -999.25 -999.25 -999.25 -999.25 -999.25 -999.25 -999.25   \n",
       "78158  8050.89 -999.25 -999.25 -999.25 -999.25 -999.25 -999.25 -999.25   \n",
       "\n",
       "            I Target  \n",
       "50338 -999.25      1  \n",
       "50339 -999.25      1  \n",
       "50340 -999.25      1  \n",
       "78158 -999.25      1  "
      ]
     },
     "execution_count": 15,
     "metadata": {},
     "output_type": "execute_result"
    }
   ],
   "source": [
    "dataset[dataset['H'] == -999.25]"
   ]
  },
  {
   "cell_type": "code",
   "execution_count": 16,
   "metadata": {
    "collapsed": true
   },
   "outputs": [],
   "source": [
    "# Columns A, B, C, D, E, F, G, H and I have -999.25 has Minimum which is unusual for the distribution. \n",
    "# It looks like these are Anamolies in data\n",
    "# Remove '-999.25'\n",
    "for i in dataset:\n",
    "    dataset = dataset[dataset[i] != -999.25]"
   ]
  },
  {
   "cell_type": "code",
   "execution_count": 17,
   "metadata": {},
   "outputs": [
    {
     "data": {
      "text/plain": [
       "A         float64\n",
       "B         float64\n",
       "C         float64\n",
       "D         float64\n",
       "E         float64\n",
       "F         float64\n",
       "G         float64\n",
       "H         float64\n",
       "I         float64\n",
       "Target     object\n",
       "dtype: object"
      ]
     },
     "execution_count": 17,
     "metadata": {},
     "output_type": "execute_result"
    }
   ],
   "source": [
    "dataset.dtypes # Target is bool "
   ]
  },
  {
   "cell_type": "code",
   "execution_count": 18,
   "metadata": {},
   "outputs": [
    {
     "data": {
      "text/html": [
       "<div>\n",
       "<style>\n",
       "    .dataframe thead tr:only-child th {\n",
       "        text-align: right;\n",
       "    }\n",
       "\n",
       "    .dataframe thead th {\n",
       "        text-align: left;\n",
       "    }\n",
       "\n",
       "    .dataframe tbody tr th {\n",
       "        vertical-align: top;\n",
       "    }\n",
       "</style>\n",
       "<table border=\"1\" class=\"dataframe\">\n",
       "  <thead>\n",
       "    <tr style=\"text-align: right;\">\n",
       "      <th></th>\n",
       "      <th>A</th>\n",
       "      <th>B</th>\n",
       "      <th>C</th>\n",
       "      <th>D</th>\n",
       "      <th>E</th>\n",
       "      <th>F</th>\n",
       "      <th>G</th>\n",
       "      <th>H</th>\n",
       "      <th>I</th>\n",
       "    </tr>\n",
       "  </thead>\n",
       "  <tbody>\n",
       "    <tr>\n",
       "      <th>count</th>\n",
       "      <td>86337.000000</td>\n",
       "      <td>86337.000000</td>\n",
       "      <td>86337.000000</td>\n",
       "      <td>86337.000000</td>\n",
       "      <td>86337.000000</td>\n",
       "      <td>86337.000000</td>\n",
       "      <td>86337.000000</td>\n",
       "      <td>86337.000000</td>\n",
       "      <td>86337.000000</td>\n",
       "    </tr>\n",
       "    <tr>\n",
       "      <th>mean</th>\n",
       "      <td>7301.283963</td>\n",
       "      <td>11.718268</td>\n",
       "      <td>7058.198316</td>\n",
       "      <td>46.233114</td>\n",
       "      <td>6.148913</td>\n",
       "      <td>193.064789</td>\n",
       "      <td>94.219523</td>\n",
       "      <td>14590.303995</td>\n",
       "      <td>2270.917092</td>\n",
       "    </tr>\n",
       "    <tr>\n",
       "      <th>std</th>\n",
       "      <td>468.322498</td>\n",
       "      <td>5.477772</td>\n",
       "      <td>995.359382</td>\n",
       "      <td>34.875140</td>\n",
       "      <td>8.072746</td>\n",
       "      <td>30.839336</td>\n",
       "      <td>77.575161</td>\n",
       "      <td>11738.182153</td>\n",
       "      <td>1138.145984</td>\n",
       "    </tr>\n",
       "    <tr>\n",
       "      <th>min</th>\n",
       "      <td>6813.430000</td>\n",
       "      <td>0.000000</td>\n",
       "      <td>3213.200000</td>\n",
       "      <td>-3.810000</td>\n",
       "      <td>-14.600000</td>\n",
       "      <td>87.600000</td>\n",
       "      <td>0.000000</td>\n",
       "      <td>0.000000</td>\n",
       "      <td>48.000000</td>\n",
       "    </tr>\n",
       "    <tr>\n",
       "      <th>25%</th>\n",
       "      <td>6862.830000</td>\n",
       "      <td>11.560000</td>\n",
       "      <td>6848.350000</td>\n",
       "      <td>11.780000</td>\n",
       "      <td>0.000000</td>\n",
       "      <td>193.300000</td>\n",
       "      <td>0.000000</td>\n",
       "      <td>0.000000</td>\n",
       "      <td>1864.000000</td>\n",
       "    </tr>\n",
       "    <tr>\n",
       "      <th>50%</th>\n",
       "      <td>7144.680000</td>\n",
       "      <td>14.930000</td>\n",
       "      <td>7143.530000</td>\n",
       "      <td>46.420000</td>\n",
       "      <td>0.000000</td>\n",
       "      <td>199.100000</td>\n",
       "      <td>81.000000</td>\n",
       "      <td>14419.000000</td>\n",
       "      <td>2876.000000</td>\n",
       "    </tr>\n",
       "    <tr>\n",
       "      <th>75%</th>\n",
       "      <td>7690.030000</td>\n",
       "      <td>14.990000</td>\n",
       "      <td>7676.330000</td>\n",
       "      <td>82.870000</td>\n",
       "      <td>14.300000</td>\n",
       "      <td>210.000000</td>\n",
       "      <td>166.000000</td>\n",
       "      <td>23563.000000</td>\n",
       "      <td>3099.000000</td>\n",
       "    </tr>\n",
       "    <tr>\n",
       "      <th>max</th>\n",
       "      <td>8186.380000</td>\n",
       "      <td>15.260000</td>\n",
       "      <td>8186.380000</td>\n",
       "      <td>100.060000</td>\n",
       "      <td>104.300000</td>\n",
       "      <td>274.200000</td>\n",
       "      <td>204.000000</td>\n",
       "      <td>56382.000000</td>\n",
       "      <td>3543.000000</td>\n",
       "    </tr>\n",
       "  </tbody>\n",
       "</table>\n",
       "</div>"
      ],
      "text/plain": [
       "                  A             B             C             D             E  \\\n",
       "count  86337.000000  86337.000000  86337.000000  86337.000000  86337.000000   \n",
       "mean    7301.283963     11.718268   7058.198316     46.233114      6.148913   \n",
       "std      468.322498      5.477772    995.359382     34.875140      8.072746   \n",
       "min     6813.430000      0.000000   3213.200000     -3.810000    -14.600000   \n",
       "25%     6862.830000     11.560000   6848.350000     11.780000      0.000000   \n",
       "50%     7144.680000     14.930000   7143.530000     46.420000      0.000000   \n",
       "75%     7690.030000     14.990000   7676.330000     82.870000     14.300000   \n",
       "max     8186.380000     15.260000   8186.380000    100.060000    104.300000   \n",
       "\n",
       "                  F             G             H             I  \n",
       "count  86337.000000  86337.000000  86337.000000  86337.000000  \n",
       "mean     193.064789     94.219523  14590.303995   2270.917092  \n",
       "std       30.839336     77.575161  11738.182153   1138.145984  \n",
       "min       87.600000      0.000000      0.000000     48.000000  \n",
       "25%      193.300000      0.000000      0.000000   1864.000000  \n",
       "50%      199.100000     81.000000  14419.000000   2876.000000  \n",
       "75%      210.000000    166.000000  23563.000000   3099.000000  \n",
       "max      274.200000    204.000000  56382.000000   3543.000000  "
      ]
     },
     "execution_count": 18,
     "metadata": {},
     "output_type": "execute_result"
    }
   ],
   "source": [
    "# Checking Central measures of Tendency again\n",
    "dataset.describe()"
   ]
  },
  {
   "cell_type": "code",
   "execution_count": 19,
   "metadata": {},
   "outputs": [
    {
     "data": {
      "text/plain": [
       "False"
      ]
     },
     "execution_count": 19,
     "metadata": {},
     "output_type": "execute_result"
    }
   ],
   "source": [
    "#Checking for NULL values\n",
    "dataset.isnull().any().any()"
   ]
  },
  {
   "cell_type": "markdown",
   "metadata": {},
   "source": [
    "The dataset has No NULL values"
   ]
  },
  {
   "cell_type": "raw",
   "metadata": {},
   "source": [
    "Class Distribution"
   ]
  },
  {
   "cell_type": "code",
   "execution_count": 20,
   "metadata": {},
   "outputs": [
    {
     "data": {
      "text/plain": [
       "1    54.030138\n",
       "0    45.969862\n",
       "Name: Target, dtype: float64"
      ]
     },
     "execution_count": 20,
     "metadata": {},
     "output_type": "execute_result"
    }
   ],
   "source": [
    "# Checking for Class Imbalance in Target variable \n",
    "dataset['Target'].value_counts()*100/dataset.shape[0]"
   ]
  },
  {
   "cell_type": "markdown",
   "metadata": {},
   "source": [
    "The distribution of Target variable is approx 50:50 removing the problem of Class Imbalance"
   ]
  },
  {
   "cell_type": "code",
   "execution_count": 21,
   "metadata": {},
   "outputs": [
    {
     "data": {
      "image/png": "[encoded data removed]",
      "text/plain": [
       "<matplotlib.figure.Figure at 0x5129393e10>"
      ]
     },
     "metadata": {},
     "output_type": "display_data"
    }
   ],
   "source": [
    "sns.countplot(dataset['Target'])\n",
    "plt.show()"
   ]
  },
  {
   "cell_type": "raw",
   "metadata": {},
   "source": [
    "Correlations Between Attributes"
   ]
  },
  {
   "cell_type": "code",
   "execution_count": 22,
   "metadata": {},
   "outputs": [
    {
     "data": {
      "image/png": "[encoded data removed]",
      "text/plain": [
       "<matplotlib.figure.Figure at 0x512a97e978>"
      ]
     },
     "metadata": {},
     "output_type": "display_data"
    }
   ],
   "source": [
    "# plotting the correlation matrix\n",
    "corrmat = dataset.corr()\n",
    "f,ax = plt.subplots(figsize = (8,8))\n",
    "sns.heatmap(corrmat, vmax = .8, square = True)\n",
    "plt.show()"
   ]
  },
  {
   "cell_type": "raw",
   "metadata": {},
   "source": [
    "From the Heat map of Correlations i see that \n",
    "1)Attribute G and H are highly correlated\n",
    "2)Attribute B and I are highly correlated"
   ]
  },
  {
   "cell_type": "code",
   "execution_count": 23,
   "metadata": {},
   "outputs": [
    {
     "data": {
      "text/html": [
       "<div>\n",
       "<style>\n",
       "    .dataframe thead tr:only-child th {\n",
       "        text-align: right;\n",
       "    }\n",
       "\n",
       "    .dataframe thead th {\n",
       "        text-align: left;\n",
       "    }\n",
       "\n",
       "    .dataframe tbody tr th {\n",
       "        vertical-align: top;\n",
       "    }\n",
       "</style>\n",
       "<table border=\"1\" class=\"dataframe\">\n",
       "  <thead>\n",
       "    <tr style=\"text-align: right;\">\n",
       "      <th></th>\n",
       "      <th>A</th>\n",
       "      <th>B</th>\n",
       "      <th>C</th>\n",
       "      <th>D</th>\n",
       "      <th>E</th>\n",
       "      <th>F</th>\n",
       "      <th>G</th>\n",
       "      <th>H</th>\n",
       "      <th>I</th>\n",
       "    </tr>\n",
       "  </thead>\n",
       "  <tbody>\n",
       "    <tr>\n",
       "      <th>A</th>\n",
       "      <td>1.000000</td>\n",
       "      <td>0.349601</td>\n",
       "      <td>0.712135</td>\n",
       "      <td>0.013616</td>\n",
       "      <td>0.072178</td>\n",
       "      <td>0.148045</td>\n",
       "      <td>0.479538</td>\n",
       "      <td>0.534234</td>\n",
       "      <td>0.454803</td>\n",
       "    </tr>\n",
       "    <tr>\n",
       "      <th>B</th>\n",
       "      <td>0.349601</td>\n",
       "      <td>1.000000</td>\n",
       "      <td>0.616159</td>\n",
       "      <td>-0.018214</td>\n",
       "      <td>0.424143</td>\n",
       "      <td>0.691076</td>\n",
       "      <td>0.650085</td>\n",
       "      <td>0.626013</td>\n",
       "      <td>0.968727</td>\n",
       "    </tr>\n",
       "    <tr>\n",
       "      <th>C</th>\n",
       "      <td>0.712135</td>\n",
       "      <td>0.616159</td>\n",
       "      <td>1.000000</td>\n",
       "      <td>-0.066057</td>\n",
       "      <td>0.219983</td>\n",
       "      <td>0.452352</td>\n",
       "      <td>0.509368</td>\n",
       "      <td>0.536238</td>\n",
       "      <td>0.649850</td>\n",
       "    </tr>\n",
       "    <tr>\n",
       "      <th>D</th>\n",
       "      <td>0.013616</td>\n",
       "      <td>-0.018214</td>\n",
       "      <td>-0.066057</td>\n",
       "      <td>1.000000</td>\n",
       "      <td>-0.114726</td>\n",
       "      <td>-0.143282</td>\n",
       "      <td>-0.149232</td>\n",
       "      <td>-0.158109</td>\n",
       "      <td>-0.005389</td>\n",
       "    </tr>\n",
       "    <tr>\n",
       "      <th>E</th>\n",
       "      <td>0.072178</td>\n",
       "      <td>0.424143</td>\n",
       "      <td>0.219983</td>\n",
       "      <td>-0.114726</td>\n",
       "      <td>1.000000</td>\n",
       "      <td>0.052919</td>\n",
       "      <td>0.486973</td>\n",
       "      <td>0.607303</td>\n",
       "      <td>0.467651</td>\n",
       "    </tr>\n",
       "    <tr>\n",
       "      <th>F</th>\n",
       "      <td>0.148045</td>\n",
       "      <td>0.691076</td>\n",
       "      <td>0.452352</td>\n",
       "      <td>-0.143282</td>\n",
       "      <td>0.052919</td>\n",
       "      <td>1.000000</td>\n",
       "      <td>0.284818</td>\n",
       "      <td>0.257520</td>\n",
       "      <td>0.593873</td>\n",
       "    </tr>\n",
       "    <tr>\n",
       "      <th>G</th>\n",
       "      <td>0.479538</td>\n",
       "      <td>0.650085</td>\n",
       "      <td>0.509368</td>\n",
       "      <td>-0.149232</td>\n",
       "      <td>0.486973</td>\n",
       "      <td>0.284818</td>\n",
       "      <td>1.000000</td>\n",
       "      <td>0.913615</td>\n",
       "      <td>0.730676</td>\n",
       "    </tr>\n",
       "    <tr>\n",
       "      <th>H</th>\n",
       "      <td>0.534234</td>\n",
       "      <td>0.626013</td>\n",
       "      <td>0.536238</td>\n",
       "      <td>-0.158109</td>\n",
       "      <td>0.607303</td>\n",
       "      <td>0.257520</td>\n",
       "      <td>0.913615</td>\n",
       "      <td>1.000000</td>\n",
       "      <td>0.708864</td>\n",
       "    </tr>\n",
       "    <tr>\n",
       "      <th>I</th>\n",
       "      <td>0.454803</td>\n",
       "      <td>0.968727</td>\n",
       "      <td>0.649850</td>\n",
       "      <td>-0.005389</td>\n",
       "      <td>0.467651</td>\n",
       "      <td>0.593873</td>\n",
       "      <td>0.730676</td>\n",
       "      <td>0.708864</td>\n",
       "      <td>1.000000</td>\n",
       "    </tr>\n",
       "  </tbody>\n",
       "</table>\n",
       "</div>"
      ],
      "text/plain": [
       "          A         B         C         D         E         F         G  \\\n",
       "A  1.000000  0.349601  0.712135  0.013616  0.072178  0.148045  0.479538   \n",
       "B  0.349601  1.000000  0.616159 -0.018214  0.424143  0.691076  0.650085   \n",
       "C  0.712135  0.616159  1.000000 -0.066057  0.219983  0.452352  0.509368   \n",
       "D  0.013616 -0.018214 -0.066057  1.000000 -0.114726 -0.143282 -0.149232   \n",
       "E  0.072178  0.424143  0.219983 -0.114726  1.000000  0.052919  0.486973   \n",
       "F  0.148045  0.691076  0.452352 -0.143282  0.052919  1.000000  0.284818   \n",
       "G  0.479538  0.650085  0.509368 -0.149232  0.486973  0.284818  1.000000   \n",
       "H  0.534234  0.626013  0.536238 -0.158109  0.607303  0.257520  0.913615   \n",
       "I  0.454803  0.968727  0.649850 -0.005389  0.467651  0.593873  0.730676   \n",
       "\n",
       "          H         I  \n",
       "A  0.534234  0.454803  \n",
       "B  0.626013  0.968727  \n",
       "C  0.536238  0.649850  \n",
       "D -0.158109 -0.005389  \n",
       "E  0.607303  0.467651  \n",
       "F  0.257520  0.593873  \n",
       "G  0.913615  0.730676  \n",
       "H  1.000000  0.708864  \n",
       "I  0.708864  1.000000  "
      ]
     },
     "execution_count": 23,
     "metadata": {},
     "output_type": "execute_result"
    }
   ],
   "source": [
    "# So Checking how the G and H Attributes are related\n",
    "dataset.corr(method='pearson')"
   ]
  },
  {
   "cell_type": "raw",
   "metadata": {},
   "source": [
    "G and H attributes are Positively correlated \n",
    "B and I attributes are Positively correlated"
   ]
  },
  {
   "cell_type": "raw",
   "metadata": {},
   "source": [
    "Skew of Univariate Distributions"
   ]
  },
  {
   "cell_type": "code",
   "execution_count": 24,
   "metadata": {
    "collapsed": true
   },
   "outputs": [],
   "source": [
    "# Skew refers to a distribution that is assumed Gaussian (normal or bell curve) that is shifted or squashed in one\n",
    "# direction or another. Many machine learning algorithms assume a Gaussian distribution. Knowing that an attribute \n",
    "#  has a skew may allow you to perform data preparation to correct the skew and later improve the accuracy of your models. "
   ]
  },
  {
   "cell_type": "code",
   "execution_count": 25,
   "metadata": {},
   "outputs": [
    {
     "name": "stdout",
     "output_type": "stream",
     "text": [
      "A         0.491532\n",
      "B        -1.462501\n",
      "C        -2.036795\n",
      "D         0.018434\n",
      "E         1.045814\n",
      "F        -1.705265\n",
      "G         0.022092\n",
      "H         0.091583\n",
      "I        -1.108819\n",
      "Target   -0.161735\n",
      "dtype: float64\n"
     ]
    }
   ],
   "source": [
    "skew = dataset.skew() \n",
    "print(skew)"
   ]
  },
  {
   "cell_type": "code",
   "execution_count": 26,
   "metadata": {
    "collapsed": true
   },
   "outputs": [],
   "source": [
    "# Taking one out of G and H attribute.Correlation Based Feature Selection \n",
    "# Taking one out of B and I attribute.Correlation Based Feature Selection \n",
    "# Pearson’s correlation coefficient\n",
    "del dataset['H']\n",
    "del dataset['I']"
   ]
  },
  {
   "cell_type": "code",
   "execution_count": 27,
   "metadata": {},
   "outputs": [
    {
     "name": "stdout",
     "output_type": "stream",
     "text": [
      "HISTOGRAM OF A\n"
     ]
    },
    {
     "data": {
      "image/png": "[encoded data removed]",
      "text/plain": [
       "<matplotlib.figure.Figure at 0x512a5d0748>"
      ]
     },
     "metadata": {},
     "output_type": "display_data"
    },
    {
     "name": "stdout",
     "output_type": "stream",
     "text": [
      "HISTOGRAM OF B\n"
     ]
    },
    {
     "data": {
      "image/png": "[encoded data removed]",
      "text/plain": [
       "<matplotlib.figure.Figure at 0x512ab60358>"
      ]
     },
     "metadata": {},
     "output_type": "display_data"
    },
    {
     "name": "stdout",
     "output_type": "stream",
     "text": [
      "HISTOGRAM OF C\n"
     ]
    },
    {
     "data": {
      "image/png": "[encoded data removed]",
      "text/plain": [
       "<matplotlib.figure.Figure at 0x512a989a58>"
      ]
     },
     "metadata": {},
     "output_type": "display_data"
    },
    {
     "name": "stdout",
     "output_type": "stream",
     "text": [
      "HISTOGRAM OF D\n"
     ]
    },
    {
     "data": {
      "image/png": "[encoded data removed]",
      "text/plain": [
       "<matplotlib.figure.Figure at 0x512ad21e10>"
      ]
     },
     "metadata": {},
     "output_type": "display_data"
    },
    {
     "name": "stdout",
     "output_type": "stream",
     "text": [
      "HISTOGRAM OF E\n"
     ]
    },
    {
     "data": {
      "image/png": "[encoded data removed]",
      "text/plain": [
       "<matplotlib.figure.Figure at 0x512ab604a8>"
      ]
     },
     "metadata": {},
     "output_type": "display_data"
    },
    {
     "name": "stdout",
     "output_type": "stream",
     "text": [
      "HISTOGRAM OF F\n"
     ]
    },
    {
     "data": {
      "image/png": "[encoded data removed]",
      "text/plain": [
       "<matplotlib.figure.Figure at 0x512adc3828>"
      ]
     },
     "metadata": {},
     "output_type": "display_data"
    },
    {
     "name": "stdout",
     "output_type": "stream",
     "text": [
      "HISTOGRAM OF G\n"
     ]
    },
    {
     "data": {
      "image/png": "[encoded data removed]",
      "text/plain": [
       "<matplotlib.figure.Figure at 0x512aefff60>"
      ]
     },
     "metadata": {},
     "output_type": "display_data"
    }
   ],
   "source": [
    "for i in dataset:\n",
    "    if dataset[i].dtype == 'int64'or dataset[i].dtype =='float64':\n",
    "        plt.hist(dataset[i])\n",
    "        print(\"HISTOGRAM OF %s\" % i)\n",
    "        plt.show()        "
   ]
  },
  {
   "cell_type": "code",
   "execution_count": 28,
   "metadata": {
    "collapsed": true
   },
   "outputs": [],
   "source": [
    "dataset['Target'] = dataset['Target'].astype(int)"
   ]
  },
  {
   "cell_type": "code",
   "execution_count": 29,
   "metadata": {},
   "outputs": [
    {
     "data": {
      "text/plain": [
       "A         float64\n",
       "B         float64\n",
       "C         float64\n",
       "D         float64\n",
       "E         float64\n",
       "F         float64\n",
       "G         float64\n",
       "Target      int32\n",
       "dtype: object"
      ]
     },
     "execution_count": 29,
     "metadata": {},
     "output_type": "execute_result"
    }
   ],
   "source": [
    "dataset.dtypes"
   ]
  },
  {
   "cell_type": "markdown",
   "metadata": {},
   "source": [
    "# SPLITTING INDEPENDENT AND TARGET VARIABLE"
   ]
  },
  {
   "cell_type": "code",
   "execution_count": 33,
   "metadata": {
    "collapsed": true
   },
   "outputs": [],
   "source": [
    "# Creating Independent and Dependent Variable\n",
    "target = ['Target']\n",
    "X = dataset.drop(target, axis = 1)\n",
    "y = pd.DataFrame(dataset[target])"
   ]
  },
  {
   "cell_type": "code",
   "execution_count": 34,
   "metadata": {},
   "outputs": [
    {
     "name": "stdout",
     "output_type": "stream",
     "text": [
      "Number of 86337 Records and 7 Columns in Independent Attributes - X\n",
      "Number of 86337 Records and 1 Columns in Target Variable - y\n"
     ]
    }
   ],
   "source": [
    "print(\"Number of %s Records and %s Columns in Independent Attributes - X\" % (X.shape[0], X.shape[1]))\n",
    "print(\"Number of %s Records and %s Columns in Target Variable - y\" % (y.shape[0], y.shape[1]))"
   ]
  },
  {
   "cell_type": "markdown",
   "metadata": {},
   "source": [
    "# Feature Extraction"
   ]
  },
  {
   "cell_type": "raw",
   "metadata": {},
   "source": [
    "RFE"
   ]
  },
  {
   "cell_type": "code",
   "execution_count": 35,
   "metadata": {},
   "outputs": [
    {
     "name": "stdout",
     "output_type": "stream",
     "text": [
      "Num Features: 3\n",
      "Selected Features: [False  True False False  True  True False]\n",
      "Feature Ranking: [4 1 5 2 1 1 3]\n"
     ]
    }
   ],
   "source": [
    "model = LogisticRegression()\n",
    "rfe = RFE(model, 3)\n",
    "fit = rfe.fit(X, y)\n",
    "\n",
    "print(\"Num Features: %d\" % fit.n_features_)\n",
    "print(\"Selected Features: %s\" % fit.support_)\n",
    "print(\"Feature Ranking: %s\" % fit.ranking_)"
   ]
  },
  {
   "cell_type": "markdown",
   "metadata": {},
   "source": [
    "RFE selected B,E and F attributes as top 3 important"
   ]
  },
  {
   "cell_type": "raw",
   "metadata": {},
   "source": [
    "EXTRA TREES CLASSIFIER"
   ]
  },
  {
   "cell_type": "code",
   "execution_count": 36,
   "metadata": {},
   "outputs": [
    {
     "name": "stdout",
     "output_type": "stream",
     "text": [
      "Important Features: [ 0.12172234  0.24717739  0.09649933  0.14690426  0.06356283  0.0837355\n",
      "  0.24039836]\n"
     ]
    }
   ],
   "source": [
    "#Feature Importance\n",
    "from sklearn.ensemble import ExtraTreesClassifier\n",
    "model = ExtraTreesClassifier()\n",
    "model.fit(X, y)\n",
    "print(\"Important Features:\",model.feature_importances_)"
   ]
  },
  {
   "cell_type": "markdown",
   "metadata": {},
   "source": [
    "Extra Trees Classifier selected B, D, E and G"
   ]
  },
  {
   "cell_type": "markdown",
   "metadata": {},
   "source": [
    "# Evaluating ML model using Train-Test Sets "
   ]
  },
  {
   "cell_type": "code",
   "execution_count": 37,
   "metadata": {},
   "outputs": [
    {
     "name": "stdout",
     "output_type": "stream",
     "text": [
      "Number of 64752 Records and 7 Columns in X_train\n",
      "Number of 64752 Records and 1 Columns in y_train\n",
      "Number of 21585 Records and 7 Columns in X_test\n",
      "Number of 21585 Records and 1 Columns in y_test\n"
     ]
    }
   ],
   "source": [
    "# Splitting dataset into Train and Test\n",
    "X_train, X_test, y_train, y_test = train_test_split(X, y)\n",
    "print(\"Number of %s Records and %s Columns in X_train\" % (X_train.shape[0], X_train.shape[1]))\n",
    "print(\"Number of %s Records and %s Columns in y_train\" % (y_train.shape[0], y_train.shape[1]))\n",
    "print(\"Number of %s Records and %s Columns in X_test\" % (X_test.shape[0], X_test.shape[1]))\n",
    "print(\"Number of %s Records and %s Columns in y_test\" % (y_test.shape[0], y_test.shape[1]))"
   ]
  },
  {
   "cell_type": "code",
   "execution_count": 38,
   "metadata": {},
   "outputs": [
    {
     "name": "stdout",
     "output_type": "stream",
     "text": [
      "TEST DATASET % : 0.3\n",
      "TRAIN DATASET % : 0.7\n"
     ]
    }
   ],
   "source": [
    "#SPLIT RATIO\n",
    "print(\"TEST DATASET % :\",round(X_test.shape[0]/X.shape[0],1))\n",
    "print(\"TRAIN DATASET % :\",1-(round(X_test.shape[0]/X.shape[0],1)))"
   ]
  },
  {
   "cell_type": "markdown",
   "metadata": {},
   "source": [
    "# STANDARDIZATION OF DATASET"
   ]
  },
  {
   "cell_type": "code",
   "execution_count": 39,
   "metadata": {},
   "outputs": [
    {
     "data": {
      "text/plain": [
       "StandardScaler(copy=True, with_mean=True, with_std=True)"
      ]
     },
     "execution_count": 39,
     "metadata": {},
     "output_type": "execute_result"
    }
   ],
   "source": [
    "#Gaussian with 0 mean and unit variance.\n",
    "scaler = StandardScaler()\n",
    "# Fit only to the training data\n",
    "scaler.fit(X_train)"
   ]
  },
  {
   "cell_type": "code",
   "execution_count": 40,
   "metadata": {
    "collapsed": true
   },
   "outputs": [],
   "source": [
    "X_train = scaler.transform(X_train)\n",
    "X_test = scaler.transform(X_test)"
   ]
  },
  {
   "cell_type": "code",
   "execution_count": 41,
   "metadata": {},
   "outputs": [
    {
     "name": "stdout",
     "output_type": "stream",
     "text": [
      "HISTOGRAM OF 0\n"
     ]
    },
    {
     "data": {
      "image/png": "[encoded data removed]",
      "text/plain": [
       "<matplotlib.figure.Figure at 0x512ae98080>"
      ]
     },
     "metadata": {},
     "output_type": "display_data"
    },
    {
     "name": "stdout",
     "output_type": "stream",
     "text": [
      "HISTOGRAM OF 1\n"
     ]
    },
    {
     "data": {
      "image/png": "[encoded data removed]",
      "text/plain": [
       "<matplotlib.figure.Figure at 0x512ae11cf8>"
      ]
     },
     "metadata": {},
     "output_type": "display_data"
    },
    {
     "name": "stdout",
     "output_type": "stream",
     "text": [
      "HISTOGRAM OF 2\n"
     ]
    },
    {
     "data": {
      "image/png": "[encoded data removed]",
      "text/plain": [
       "<matplotlib.figure.Figure at 0x512af26a58>"
      ]
     },
     "metadata": {},
     "output_type": "display_data"
    },
    {
     "name": "stdout",
     "output_type": "stream",
     "text": [
      "HISTOGRAM OF 3\n"
     ]
    },
    {
     "data": {
      "image/png": "[encoded data removed]",
      "text/plain": [
       "<matplotlib.figure.Figure at 0x512aea0710>"
      ]
     },
     "metadata": {},
     "output_type": "display_data"
    },
    {
     "name": "stdout",
     "output_type": "stream",
     "text": [
      "HISTOGRAM OF 4\n"
     ]
    },
    {
     "data": {
      "image/png": "[encoded data removed]",
      "text/plain": [
       "<matplotlib.figure.Figure at 0x512e1b5978>"
      ]
     },
     "metadata": {},
     "output_type": "display_data"
    },
    {
     "name": "stdout",
     "output_type": "stream",
     "text": [
      "HISTOGRAM OF 5\n"
     ]
    },
    {
     "data": {
      "image/png": "[encoded data removed]",
      "text/plain": [
       "<matplotlib.figure.Figure at 0x512ab7a780>"
      ]
     },
     "metadata": {},
     "output_type": "display_data"
    },
    {
     "name": "stdout",
     "output_type": "stream",
     "text": [
      "HISTOGRAM OF 6\n"
     ]
    },
    {
     "data": {
      "image/png": "[encoded data removed]",
      "text/plain": [
       "<matplotlib.figure.Figure at 0x512abea710>"
      ]
     },
     "metadata": {},
     "output_type": "display_data"
    }
   ],
   "source": [
    "for i in pd.DataFrame(X_train):\n",
    "    plt.hist(pd.DataFrame(X_train[i]))\n",
    "    print(\"HISTOGRAM OF %s\" % i)\n",
    "    plt.show()\n",
    "    "
   ]
  },
  {
   "cell_type": "code",
   "execution_count": 42,
   "metadata": {},
   "outputs": [
    {
     "name": "stdout",
     "output_type": "stream",
     "text": [
      "HISTOGRAM OF 0\n"
     ]
    },
    {
     "data": {
      "image/png": "[encoded data removed]",
      "text/plain": [
       "<matplotlib.figure.Figure at 0x512a80b978>"
      ]
     },
     "metadata": {},
     "output_type": "display_data"
    },
    {
     "name": "stdout",
     "output_type": "stream",
     "text": [
      "HISTOGRAM OF 1\n"
     ]
    },
    {
     "data": {
      "image/png": "[encoded data removed]",
      "text/plain": [
       "<matplotlib.figure.Figure at 0x512b64e1d0>"
      ]
     },
     "metadata": {},
     "output_type": "display_data"
    },
    {
     "name": "stdout",
     "output_type": "stream",
     "text": [
      "HISTOGRAM OF 2\n"
     ]
    },
    {
     "data": {
      "image/png": "[encoded data removed]",
      "text/plain": [
       "<matplotlib.figure.Figure at 0x512ae296a0>"
      ]
     },
     "metadata": {},
     "output_type": "display_data"
    },
    {
     "name": "stdout",
     "output_type": "stream",
     "text": [
      "HISTOGRAM OF 3\n"
     ]
    },
    {
     "data": {
      "image/png": "[encoded data removed]",
      "text/plain": [
       "<matplotlib.figure.Figure at 0x512aeaf908>"
      ]
     },
     "metadata": {},
     "output_type": "display_data"
    },
    {
     "name": "stdout",
     "output_type": "stream",
     "text": [
      "HISTOGRAM OF 4\n"
     ]
    },
    {
     "data": {
      "image/png": "[encoded data removed]",
      "text/plain": [
       "<matplotlib.figure.Figure at 0x512ad8ab38>"
      ]
     },
     "metadata": {},
     "output_type": "display_data"
    },
    {
     "name": "stdout",
     "output_type": "stream",
     "text": [
      "HISTOGRAM OF 5\n"
     ]
    },
    {
     "data": {
      "image/png": "[encoded data removed]",
      "text/plain": [
       "<matplotlib.figure.Figure at 0x512adbb978>"
      ]
     },
     "metadata": {},
     "output_type": "display_data"
    },
    {
     "name": "stdout",
     "output_type": "stream",
     "text": [
      "HISTOGRAM OF 6\n"
     ]
    },
    {
     "data": {
      "image/png": "[encoded data removed]",
      "text/plain": [
       "<matplotlib.figure.Figure at 0x512af3be10>"
      ]
     },
     "metadata": {},
     "output_type": "display_data"
    }
   ],
   "source": [
    "for i in pd.DataFrame(X_test):\n",
    "    plt.hist(pd.DataFrame(X_test[i]))\n",
    "    print(\"HISTOGRAM OF %s\" % i)\n",
    "    plt.show()"
   ]
  },
  {
   "cell_type": "code",
   "execution_count": 43,
   "metadata": {
    "collapsed": true
   },
   "outputs": [],
   "source": [
    "scaler = StandardScaler().fit(X) \n",
    "X = scaler.transform(X)"
   ]
  },
  {
   "cell_type": "markdown",
   "metadata": {
    "collapsed": true
   },
   "source": [
    "# RUNNING MODELS"
   ]
  },
  {
   "cell_type": "code",
   "execution_count": 86,
   "metadata": {},
   "outputs": [
    {
     "data": {
      "text/plain": [
       "'# 1. MLPClassifier 2. SVM 3. XGBoost 4.DecisionTree Classifier 5. RandomForest Classifier 6. AdaBoost Classifier\\n#7.Gradient Boosting Classifier 8.Logistic Regression'"
      ]
     },
     "execution_count": 86,
     "metadata": {},
     "output_type": "execute_result"
    }
   ],
   "source": [
    "'''# 1. MLPClassifier 2. SVM 3. XGBoost 4.DecisionTree Classifier 5. RandomForest Classifier 6. AdaBoost Classifier\n",
    "#7.Gradient Boosting Classifier 8.Logistic Regression'''"
   ]
  },
  {
   "cell_type": "code",
   "execution_count": 55,
   "metadata": {},
   "outputs": [
    {
     "data": {
      "text/plain": [
       "LogisticRegression(C=1.0, class_weight=None, dual=False, fit_intercept=True,\n",
       "          intercept_scaling=1, max_iter=100, multi_class='ovr', n_jobs=1,\n",
       "          penalty='l2', random_state=None, solver='liblinear', tol=0.0001,\n",
       "          verbose=0, warm_start=False)"
      ]
     },
     "execution_count": 55,
     "metadata": {},
     "output_type": "execute_result"
    }
   ],
   "source": [
    "#MLPClassifier\n",
    "mlp = MLPClassifier(activation='relu', alpha=0.001, batch_size='auto',max_iter = 200, solver = 'adam',hidden_layer_sizes=(100,50,10,5))\n",
    "mlp.fit(X_train,y_train)\n",
    "svm = SVC(kernel = 'sigmoid')\n",
    "svm.fit(X_train,y_train)\n",
    "xgb_model = XGBClassifier()\n",
    "xgb_model.fit(X_train,y_train)\n",
    "dt = DecisionTreeClassifier()\n",
    "dt.fit(X_train,y_train)\n",
    "gbc = GradientBoostingClassifier(n_estimators=100, learning_rate=0.01,max_depth=1, random_state=0)\n",
    "gbc.fit(X_train,y_train)\n",
    "logistic = LogisticRegression()\n",
    "logistic.fit(X_train,y_train)"
   ]
  },
  {
   "cell_type": "code",
   "execution_count": 56,
   "metadata": {},
   "outputs": [
    {
     "data": {
      "text/plain": [
       "'\\nCLASSIFICATION METRICS\\x88\\n# 1.Classification Accuracy.\\n\\x88# 2.Logarithmic Loss.\\n\\x88# 3.Area Under ROC Curve.\\n\\x88# 4.Confusion Matrix.\\n\\x88# 5.Classification Report.\\n'"
      ]
     },
     "execution_count": 56,
     "metadata": {},
     "output_type": "execute_result"
    }
   ],
   "source": [
    "'''\n",
    "CLASSIFICATION METRICS\n",
    "# 1.Classification Accuracy.\n",
    "# 2.Logarithmic Loss.\n",
    "# 3.Area Under ROC Curve.\n",
    "# 4.Confusion Matrix.\n",
    "# 5.Classification Report.\n",
    "'''"
   ]
  },
  {
   "cell_type": "code",
   "execution_count": 57,
   "metadata": {},
   "outputs": [
    {
     "name": "stdout",
     "output_type": "stream",
     "text": [
      "MLP CLASSIFIER:\n",
      "\n",
      "Accuracy: 0.969747509845\n",
      "\n",
      "Logarithmic loss: 1.0448938466\n",
      "\n"
     ]
    },
    {
     "data": {
      "image/png": "[encoded data removed]",
      "text/plain": [
       "<matplotlib.figure.Figure at 0x512abb94e0>"
      ]
     },
     "metadata": {},
     "output_type": "display_data"
    },
    {
     "name": "stdout",
     "output_type": "stream",
     "text": [
      "\n",
      "Confusion Matrix:\n",
      "[[ 9729   266]\n",
      " [  387 11203]]\n",
      "\n",
      "Classification Report:\n",
      "             precision    recall  f1-score   support\n",
      "\n",
      "          0       0.96      0.97      0.97      9995\n",
      "          1       0.98      0.97      0.97     11590\n",
      "\n",
      "avg / total       0.97      0.97      0.97     21585\n",
      "\n",
      "\n",
      "\n",
      "\n",
      "SUPPORT VECTOR MACHINES:\n",
      "Acuracy: 0.802733379662\n",
      "Logarithmic loss: 6.8134283351\n",
      "\n"
     ]
    },
    {
     "data": {
      "image/png": "[encoded data removed]",
      "text/plain": [
       "<matplotlib.figure.Figure at 0x512a989978>"
      ]
     },
     "metadata": {},
     "output_type": "display_data"
    },
    {
     "name": "stdout",
     "output_type": "stream",
     "text": [
      "\n",
      "Confusion Matrix:\n",
      "[[7818 2177]\n",
      " [2081 9509]]\n",
      "\n",
      "Classification Report:\n",
      "             precision    recall  f1-score   support\n",
      "\n",
      "          0       0.79      0.78      0.79      9995\n",
      "          1       0.81      0.82      0.82     11590\n",
      "\n",
      "avg / total       0.80      0.80      0.80     21585\n",
      "\n",
      "\n",
      "\n",
      "XGBOOST:\n",
      "\n",
      "Accuracy: 0.971369006254\n",
      "Logarithmic loss: 0.988893086139\n",
      "\n"
     ]
    },
    {
     "data": {
      "image/png": "[encoded data removed]",
      "text/plain": [
       "<matplotlib.figure.Figure at 0x512aee5b38>"
      ]
     },
     "metadata": {},
     "output_type": "display_data"
    },
    {
     "name": "stdout",
     "output_type": "stream",
     "text": [
      "\n",
      "\n",
      "Confusion Matrix:\n",
      "[[ 9628   367]\n",
      " [  251 11339]]\n",
      "\n",
      "\n",
      "Classification Report:\n",
      "             precision    recall  f1-score   support\n",
      "\n",
      "          0       0.97      0.96      0.97      9995\n",
      "          1       0.97      0.98      0.97     11590\n",
      "\n",
      "avg / total       0.97      0.97      0.97     21585\n",
      "\n",
      "\n",
      "\n",
      "DECISION TREE:\n",
      "\n",
      "\n",
      "Accuracy: 0.993282372018\n",
      "\n",
      "\n",
      "Logarithmic loss: 0.232020540038\n",
      "\n",
      "\n"
     ]
    },
    {
     "data": {
      "image/png": "[encoded data removed]",
      "text/plain": [
       "<matplotlib.figure.Figure at 0x512aab3fd0>"
      ]
     },
     "metadata": {},
     "output_type": "display_data"
    },
    {
     "name": "stdout",
     "output_type": "stream",
     "text": [
      "\n",
      "\n",
      "Confusion Matrix:\n",
      "[[ 9944    51]\n",
      " [   94 11496]]\n",
      "\n",
      "Classification Report:\n",
      "             precision    recall  f1-score   support\n",
      "\n",
      "          0       0.99      0.99      0.99      9995\n",
      "          1       1.00      0.99      0.99     11590\n",
      "\n",
      "avg / total       0.99      0.99      0.99     21585\n",
      "\n",
      "GRADIENT BOOSTING CLASSIFIER:\n",
      "Accuracy: 0.878017141533\n",
      "Logarithmic loss: 4.21323554297\n",
      "\n"
     ]
    },
    {
     "data": {
      "image/png": "[encoded data removed]",
      "text/plain": [
       "<matplotlib.figure.Figure at 0x512a97e208>"
      ]
     },
     "metadata": {},
     "output_type": "display_data"
    },
    {
     "name": "stdout",
     "output_type": "stream",
     "text": [
      "\n",
      "Confusion Matrix:\n",
      "[[ 7380  2615]\n",
      " [   18 11572]]\n",
      "\n",
      "Classification Report:\n",
      "             precision    recall  f1-score   support\n",
      "\n",
      "          0       1.00      0.74      0.85      9995\n",
      "          1       0.82      1.00      0.90     11590\n",
      "\n",
      "avg / total       0.90      0.88      0.88     21585\n",
      "\n",
      "\n",
      "\n",
      "Logistic:\n",
      "\n",
      "Accuracy: 0.854296965485\n",
      "Logarithmic loss: 5.03247717269\n",
      "\n"
     ]
    },
    {
     "data": {
      "image/png": "[encoded data removed]",
      "text/plain": [
       "<matplotlib.figure.Figure at 0x512ab35ef0>"
      ]
     },
     "metadata": {},
     "output_type": "display_data"
    },
    {
     "name": "stdout",
     "output_type": "stream",
     "text": [
      "\n",
      "Confusion Matrix:\n",
      "[[ 8034  1961]\n",
      " [ 1184 10406]]\n",
      "\n",
      "Classification Report:\n",
      "             precision    recall  f1-score   support\n",
      "\n",
      "          0       0.87      0.80      0.84      9995\n",
      "          1       0.84      0.90      0.87     11590\n",
      "\n",
      "avg / total       0.86      0.85      0.85     21585\n",
      "\n",
      "\n",
      "\n"
     ]
    }
   ],
   "source": [
    "n_classes = 1\n",
    "#print(n_classes)\n",
    "predictions_mlp = mlp.predict(X_test)\n",
    "print(\"MLP CLASSIFIER:\")\n",
    "print(\"\")\n",
    "#Accuracy\n",
    "print(\"Accuracy:\",accuracy_score(y_test, predictions_mlp))\n",
    "print(\"\")\n",
    "print(\"Logarithmic loss:\", log_loss(y_test, predictions_mlp))\n",
    "print(\"\")\n",
    "y_score_mlp=pd.DataFrame(predictions_mlp)\n",
    "# Compute ROC curve and ROC area for each class\n",
    "fpr = dict()\n",
    "tpr = dict()\n",
    "roc_auc = dict()\n",
    "for i in range(n_classes):\n",
    "    fpr[i], tpr[i], _ = roc_curve(y_test[\"Target\"], y_score_mlp[i])\n",
    "    roc_auc[i] = auc(fpr[i], tpr[i])\n",
    "plt.figure()\n",
    "lw = 2\n",
    "plt.plot(fpr[0], tpr[0], color='darkorange',\n",
    "         lw=lw, label='ROC curve (area = %0.2f)' % roc_auc[0])\n",
    "plt.plot([0, 1], [0, 1], color='navy', lw=lw, linestyle='--')\n",
    "plt.xlim([0.0, 1.0])\n",
    "plt.ylim([0.0, 1.05])\n",
    "plt.xlabel('False Positive Rate')\n",
    "plt.ylabel('True Positive Rate')\n",
    "plt.title('Receiver operating characteristic example')\n",
    "plt.legend(loc=\"lower right\")\n",
    "plt.show()    \n",
    "print(\"\")\n",
    "print(\"Confusion Matrix:\")   \n",
    "print(confusion_matrix(y_test,predictions_mlp))\n",
    "print(\"\")\n",
    "print(\"Classification Report:\")\n",
    "print(classification_report(y_test,predictions_mlp))\n",
    "\n",
    "print()\n",
    "print(\"\")\n",
    "print(\"\")\n",
    "\n",
    "predictions_svm = svm.predict(X_test)\n",
    "print(\"SUPPORT VECTOR MACHINES:\")\n",
    "print(\"Acuracy:\",accuracy_score(y_test, predictions_svm))\n",
    "print(\"Logarithmic loss:\", log_loss(y_test, predictions_svm))\n",
    "print(\"\")\n",
    "y_score_svm=pd.DataFrame(predictions_svm)\n",
    "# Compute ROC curve and ROC area for each class\n",
    "fpr = dict()\n",
    "tpr = dict()\n",
    "roc_auc = dict()\n",
    "for i in range(n_classes):\n",
    "    fpr[i], tpr[i], _ = roc_curve(y_test[\"Target\"], y_score_svm[i])\n",
    "    roc_auc[i] = auc(fpr[i], tpr[i])\n",
    "plt.figure()\n",
    "lw = 2\n",
    "plt.plot(fpr[0], tpr[0], color='darkorange',\n",
    "         lw=lw, label='ROC curve (area = %0.2f)' % roc_auc[0])\n",
    "plt.plot([0, 1], [0, 1], color='navy', lw=lw, linestyle='--')\n",
    "plt.xlim([0.0, 1.0])\n",
    "plt.ylim([0.0, 1.05])\n",
    "plt.xlabel('False Positive Rate')\n",
    "plt.ylabel('True Positive Rate')\n",
    "plt.title('Receiver operating characteristic example')\n",
    "plt.legend(loc=\"lower right\")\n",
    "plt.show()\n",
    "print(\"\")\n",
    "print(\"Confusion Matrix:\")\n",
    "print(confusion_matrix(y_test,predictions_svm))\n",
    "print(\"\")\n",
    "print(\"Classification Report:\")\n",
    "print(classification_report(y_test,predictions_svm))\n",
    "\n",
    "print(\"\")\n",
    "print(\"\")\n",
    "\n",
    "\n",
    "predictions_xgb = xgb_model.predict(X_test)\n",
    "print(\"XGBOOST:\")\n",
    "print(\"\")\n",
    "print(\"Accuracy:\",accuracy_score(y_test, predictions_xgb))\n",
    "print(\"Logarithmic loss:\", log_loss(y_test, predictions_xgb))\n",
    "print(\"\")\n",
    "y_score_xgb=pd.DataFrame(predictions_xgb)\n",
    "# Compute ROC curve and ROC area for each class\n",
    "fpr = dict()\n",
    "tpr = dict()\n",
    "roc_auc = dict()\n",
    "for i in range(n_classes):\n",
    "    fpr[i], tpr[i], _ = roc_curve(y_test[\"Target\"], y_score_xgb[i])\n",
    "    roc_auc[i] = auc(fpr[i], tpr[i])\n",
    "plt.figure()\n",
    "lw = 2\n",
    "plt.plot(fpr[0], tpr[0], color='darkorange',\n",
    "         lw=lw, label='ROC curve (area = %0.2f)' % roc_auc[0])\n",
    "plt.plot([0, 1], [0, 1], color='navy', lw=lw, linestyle='--')\n",
    "plt.xlim([0.0, 1.0])\n",
    "plt.ylim([0.0, 1.05])\n",
    "plt.xlabel('False Positive Rate')\n",
    "plt.ylabel('True Positive Rate')\n",
    "plt.title('Receiver operating characteristic example')\n",
    "plt.legend(loc=\"lower right\")\n",
    "plt.show() \n",
    "print(\"\")\n",
    "print(\"\")\n",
    "print(\"Confusion Matrix:\")\n",
    "print(confusion_matrix(y_test,predictions_xgb))\n",
    "print(\"\")\n",
    "print(\"\")\n",
    "print(\"Classification Report:\")\n",
    "print(classification_report(y_test,predictions_xgb))\n",
    "\n",
    "print(\"\")\n",
    "print(\"\")\n",
    "\n",
    "predictions_dt = dt.predict(X_test)\n",
    "print(\"DECISION TREE:\")\n",
    "print(\"\")\n",
    "print(\"\")\n",
    "print(\"Accuracy:\",accuracy_score(y_test, predictions_dt))\n",
    "print(\"\")\n",
    "print(\"\")\n",
    "print(\"Logarithmic loss:\", log_loss(y_test, predictions_dt))\n",
    "print(\"\")\n",
    "print(\"\")\n",
    "y_score_dt=pd.DataFrame(predictions_dt)\n",
    "# Compute ROC curve and ROC area for each class\n",
    "fpr = dict()\n",
    "tpr = dict()\n",
    "roc_auc = dict()\n",
    "for i in range(n_classes):\n",
    "    fpr[i], tpr[i], _ = roc_curve(y_test[\"Target\"], y_score_dt[i])\n",
    "    roc_auc[i] = auc(fpr[i], tpr[i])\n",
    "plt.figure()\n",
    "lw = 2\n",
    "plt.plot(fpr[0], tpr[0], color='darkorange',\n",
    "         lw=lw, label='ROC curve (area = %0.2f)' % roc_auc[0])\n",
    "plt.plot([0, 1], [0, 1], color='navy', lw=lw, linestyle='--')\n",
    "plt.xlim([0.0, 1.0])\n",
    "plt.ylim([0.0, 1.05])\n",
    "plt.xlabel('False Positive Rate')\n",
    "plt.ylabel('True Positive Rate')\n",
    "plt.title('Receiver operating characteristic example')\n",
    "plt.legend(loc=\"lower right\")\n",
    "plt.show()\n",
    "print(\"\")\n",
    "print(\"\")\n",
    "print(\"Confusion Matrix:\")\n",
    "print(confusion_matrix(y_test,predictions_dt))\n",
    "print(\"\")\n",
    "print(\"Classification Report:\")\n",
    "print(classification_report(y_test,predictions_dt))\n",
    "\n",
    "\n",
    "\n",
    "predictions_gbc = gbc.predict(X_test)\n",
    "print(\"GRADIENT BOOSTING CLASSIFIER:\")\n",
    "print(\"Accuracy:\",accuracy_score(y_test, predictions_gbc))\n",
    "print(\"Logarithmic loss:\", log_loss(y_test, predictions_gbc))\n",
    "print(\"\")\n",
    "y_score_gbc=pd.DataFrame(predictions_gbc)\n",
    "# Compute ROC curve and ROC area for each class\n",
    "fpr = dict()\n",
    "tpr = dict()\n",
    "roc_auc = dict()\n",
    "for i in range(n_classes):\n",
    "    fpr[i], tpr[i], _ = roc_curve(y_test[\"Target\"], y_score_gbc[i])\n",
    "    roc_auc[i] = auc(fpr[i], tpr[i])\n",
    "plt.figure()\n",
    "lw = 2\n",
    "plt.plot(fpr[0], tpr[0], color='darkorange',\n",
    "         lw=lw, label='ROC curve (area = %0.2f)' % roc_auc[0])\n",
    "plt.plot([0, 1], [0, 1], color='navy', lw=lw, linestyle='--')\n",
    "plt.xlim([0.0, 1.0])\n",
    "plt.ylim([0.0, 1.05])\n",
    "plt.xlabel('False Positive Rate')\n",
    "plt.ylabel('True Positive Rate')\n",
    "plt.title('Receiver operating characteristic example')\n",
    "plt.legend(loc=\"lower right\")\n",
    "plt.show()\n",
    "print(\"\")\n",
    "print(\"Confusion Matrix:\")\n",
    "print(confusion_matrix(y_test,predictions_gbc))\n",
    "print(\"\")\n",
    "print(\"Classification Report:\")\n",
    "print(classification_report(y_test,predictions_gbc))\n",
    "\n",
    "print(\"\")\n",
    "print(\"\")\n",
    "\n",
    "predictions_logistic = logistic.predict(X_test)\n",
    "print(\"Logistic:\")\n",
    "print(\"\")\n",
    "print(\"Accuracy:\",accuracy_score(y_test, predictions_logistic))\n",
    "print(\"Logarithmic loss:\", log_loss(y_test, predictions_logistic))\n",
    "print(\"\")\n",
    "y_score_logistic=pd.DataFrame(predictions_logistic)\n",
    "# Compute ROC curve and ROC area for each class\n",
    "fpr = dict()\n",
    "tpr = dict()\n",
    "roc_auc = dict()\n",
    "for i in range(n_classes):\n",
    "    fpr[i], tpr[i], _ = roc_curve(y_test[\"Target\"], y_score_logistic[i])\n",
    "    roc_auc[i] = auc(fpr[i], tpr[i])\n",
    "plt.figure()\n",
    "lw = 2\n",
    "plt.plot(fpr[0], tpr[0], color='darkorange',\n",
    "         lw=lw, label='ROC curve (area = %0.2f)' % roc_auc[0])\n",
    "plt.plot([0, 1], [0, 1], color='navy', lw=lw, linestyle='--')\n",
    "plt.xlim([0.0, 1.0])\n",
    "plt.ylim([0.0, 1.05])\n",
    "plt.xlabel('False Positive Rate')\n",
    "plt.ylabel('True Positive Rate')\n",
    "plt.title('Receiver operating characteristic example')\n",
    "plt.legend(loc=\"lower right\")\n",
    "plt.show() \n",
    "print(\"\")\n",
    "print(\"Confusion Matrix:\")\n",
    "print(confusion_matrix(y_test,predictions_logistic))\n",
    "print(\"\")\n",
    "print(\"Classification Report:\")\n",
    "print(classification_report(y_test,predictions_logistic))\n",
    "\n",
    "print(\"\")\n",
    "print(\"\")"
   ]
  },
  {
   "cell_type": "markdown",
   "metadata": {},
   "source": [
    "# MODEL COMPARISION"
   ]
  },
  {
   "cell_type": "code",
   "execution_count": 58,
   "metadata": {},
   "outputs": [
    {
     "data": {
      "image/png": "[encoded data removed]",
      "text/plain": [
       "<matplotlib.figure.Figure at 0x512b0e6518>"
      ]
     },
     "metadata": {},
     "output_type": "display_data"
    }
   ],
   "source": [
    "plt.figure()\n",
    "lw = 2\n",
    "\n",
    "#MLP Classifier\n",
    "y_score = pd.DataFrame(mlp.predict(X_test))\n",
    "# Compute ROC curve and ROC area for each class\n",
    "fpr = dict()\n",
    "tpr = dict()\n",
    "roc_auc = dict()\n",
    "for i in range(n_classes):\n",
    "    fpr[i], tpr[i], _ = roc_curve(y_test[\"Target\"], y_score[i])\n",
    "    roc_auc[i] = auc(fpr[i], tpr[i])\n",
    "plt.plot(fpr[0], tpr[0], color='darkorange',\n",
    "         lw=lw, label='MLP ROC curve (area = %0.2f)' % roc_auc[0])\n",
    "\n",
    "\n",
    "\n",
    "#SVM Classifier\n",
    "y_score = pd.DataFrame(svm.predict(X_test))\n",
    "# Compute ROC curve and ROC area for each class\n",
    "fpr = dict()\n",
    "tpr = dict()\n",
    "roc_auc = dict()\n",
    "for i in range(n_classes):\n",
    "    fpr[i], tpr[i], _ = roc_curve(y_test[\"Target\"], y_score[i])\n",
    "    roc_auc[i] = auc(fpr[i], tpr[i])\n",
    "plt.plot(fpr[0], tpr[0], color='red',\n",
    "         lw=lw, label='SVM ROC curve (area = %0.2f)' % roc_auc[0])\n",
    "\n",
    "\n",
    "#XGB Classifier\n",
    "y_score = pd.DataFrame(xgb_model.predict(X_test))\n",
    "# Compute ROC curve and ROC area for each class\n",
    "fpr = dict()\n",
    "tpr = dict()\n",
    "roc_auc = dict()\n",
    "for i in range(n_classes):\n",
    "    fpr[i], tpr[i], _ = roc_curve(y_test[\"Target\"], y_score[i])\n",
    "    roc_auc[i] = auc(fpr[i], tpr[i])\n",
    "plt.plot(fpr[0], tpr[0], color='green',\n",
    "         lw=lw, label='XGB ROC curve (area = %0.2f)' % roc_auc[0])\n",
    "\n",
    "\n",
    "#Decission Tree Classifier\n",
    "y_score = pd.DataFrame(dt.predict(X_test))\n",
    "# Compute ROC curve and ROC area for each class\n",
    "fpr = dict()\n",
    "tpr = dict()\n",
    "roc_auc = dict()\n",
    "for i in range(n_classes):\n",
    "    fpr[i], tpr[i], _ = roc_curve(y_test[\"Target\"], y_score[i])\n",
    "    roc_auc[i] = auc(fpr[i], tpr[i])\n",
    "plt.plot(fpr[0], tpr[0], color='yellow',\n",
    "         lw=lw, label='Decission Tree ROC curve (area = %0.2f)' % roc_auc[0])\n",
    "\n",
    "\n",
    "#Gradient Boosting Classifier\n",
    "y_score = pd.DataFrame(gbc.predict(X_test))\n",
    "# Compute ROC curve and ROC area for each class\n",
    "fpr = dict()\n",
    "tpr = dict()\n",
    "roc_auc = dict()\n",
    "for i in range(n_classes):\n",
    "    fpr[i], tpr[i], _ = roc_curve(y_test[\"Target\"], y_score[i])\n",
    "    roc_auc[i] = auc(fpr[i], tpr[i])\n",
    "plt.plot(fpr[0], tpr[0], color='violet',\n",
    "         lw=lw, label='Gradient Boosting ROC curve (area = %0.2f)' % roc_auc[0])\n",
    "\n",
    "\n",
    "#Logistic Classifier\n",
    "y_score = pd.DataFrame(logistic.predict(X_test))\n",
    "# Compute ROC curve and ROC area for each class\n",
    "fpr = dict()\n",
    "tpr = dict()\n",
    "roc_auc = dict()\n",
    "for i in range(n_classes):\n",
    "    fpr[i], tpr[i], _ = roc_curve(y_test[\"Target\"], y_score[i])\n",
    "    roc_auc[i] = auc(fpr[i], tpr[i])\n",
    "plt.plot(fpr[0], tpr[0], color='indigo',\n",
    "         lw=lw, label='Logistic ROC curve (area = %0.2f)' % roc_auc[0])\n",
    "\n",
    "\n",
    "\n",
    "plt.plot([0, 1], [0, 1], color='navy', lw=lw, linestyle='--')\n",
    "plt.xlim([0.0, 1.0])\n",
    "plt.ylim([0.0, 1.05])\n",
    "plt.xlabel('False Positive Rate')\n",
    "plt.ylabel('True Positive Rate')\n",
    "plt.title('Receiver operating characteristic example')\n",
    "from matplotlib.font_manager import FontProperties\n",
    "\n",
    "fontP = FontProperties()\n",
    "fontP.set_size('small')\n",
    "plt.legend(prop=fontP)\n",
    "\n",
    "#plt.legend(loc=\"lower right\")\n",
    "\n",
    "plt.show()"
   ]
  },
  {
   "cell_type": "markdown",
   "metadata": {},
   "source": [
    "# K-fold Cross Validation"
   ]
  },
  {
   "cell_type": "code",
   "execution_count": 44,
   "metadata": {},
   "outputs": [
    {
     "name": "stdout",
     "output_type": "stream",
     "text": [
      "Name of Algorithm: LR, Mean of CV results: 0.745996, Standard deviation of CV results: (0.259158)\n",
      "Name of Algorithm: MLP, Mean of CV results: 0.863062, Standard deviation of CV results: (0.155056)\n",
      "Name of Algorithm: XGB, Mean of CV results: 0.916384, Standard deviation of CV results: (0.090522)\n",
      "Name of Algorithm: DT, Mean of CV results: 0.847411, Standard deviation of CV results: (0.184550)\n",
      "Name of Algorithm: LDA, Mean of CV results: 0.738039, Standard deviation of CV results: (0.260811)\n",
      "Name of Algorithm: KNN, Mean of CV results: 0.873496, Standard deviation of CV results: (0.112042)\n"
     ]
    },
    {
     "data": {
      "image/png": "[encoded data removed]",
      "text/plain": [
       "<matplotlib.figure.Figure at 0x512ab8aeb8>"
      ]
     },
     "metadata": {},
     "output_type": "display_data"
    }
   ],
   "source": [
    "# prepare models \n",
    "models = [] \n",
    "models.append(('LR', LogisticRegression())) \n",
    "models.append(('MLP', MLPClassifier(activation='relu', alpha=0.001, batch_size='auto',max_iter = 200, solver = 'adam',hidden_layer_sizes=(100,50,10,5)))) \n",
    "#models.append(('SVC', SVC(kernel = 'sigmoid'))) \n",
    "models.append(('XGB', XGBClassifier())) \n",
    "models.append(('DT', DecisionTreeClassifier())) \n",
    "models.append(('LDA', LinearDiscriminantAnalysis())) \n",
    "models.append(('KNN', KNeighborsClassifier()))\n",
    "# evaluate each model in turn \n",
    "results = [] \n",
    "names = [] \n",
    "scoring = 'accuracy' \n",
    "for name, model in models: \n",
    "    kfold = KFold(n_splits=10, random_state=7)\n",
    "    cv_results = cross_val_score(model, X, y, cv=kfold, scoring=scoring)\n",
    "    results.append(cv_results)\n",
    "    names.append(name)\n",
    "    msg = \"Name of Algorithm: %s, Mean of CV results: %f, Standard deviation of CV results: (%f)\" % (name, cv_results.mean(), cv_results.std()) \n",
    "    print(msg)\n",
    "# boxplot algorithm comparison\n",
    "fig = plt.figure() \n",
    "fig.suptitle('Algorithm Comparison') \n",
    "ax = fig.add_subplot(111) \n",
    "plt.boxplot(results) \n",
    "ax.set_xticklabels(names) \n",
    "plt.show()\n",
    "#box and whisker plot showing the spread of the accuracy scores across each cross validation fold for each algorithm\n"
   ]
  },
  {
   "cell_type": "markdown",
   "metadata": {},
   "source": [
    "# Improving Performance with Ensembles\n"
   ]
  },
  {
   "cell_type": "code",
   "execution_count": 46,
   "metadata": {
    "collapsed": true
   },
   "outputs": [],
   "source": [
    "#Here i want to use Ensemble techniques to Boost the accuracy of Model"
   ]
  },
  {
   "cell_type": "code",
   "execution_count": 47,
   "metadata": {
    "collapsed": true
   },
   "outputs": [],
   "source": [
    "#BAGGING ALGORITHMS \n",
    "#Bootstrap Aggregation (or Bagging) involves taking multiple samples from your training dataset (with replacement) and \n",
    "#training a model for each sample. \n",
    "#The ﬁnal output prediction is averaged across the predictions of all of the sub-models. "
   ]
  },
  {
   "cell_type": "code",
   "execution_count": 48,
   "metadata": {
    "collapsed": true
   },
   "outputs": [],
   "source": [
    "# 1.  Bagged Decision Trees.\n",
    "# 2.  Random Forest.\n",
    "# 3.  Extra Trees"
   ]
  },
  {
   "cell_type": "code",
   "execution_count": 49,
   "metadata": {},
   "outputs": [
    {
     "name": "stdout",
     "output_type": "stream",
     "text": [
      "Mean Accuracy Decision Tree Classifier using Bagging Technique 0.9\n",
      "Mean Accuracy Random Forest Classifier 0.9\n",
      "Mean Accuracy Extra Trees Classifier 0.92\n"
     ]
    }
   ],
   "source": [
    "seed = 7\n",
    "kfold = KFold(n_splits=10, random_state=seed)\n",
    "#Decision Tree Classifier\n",
    "cart = DecisionTreeClassifier() \n",
    "num_trees = 100 \n",
    "model = BaggingClassifier(base_estimator=cart, n_estimators=num_trees, random_state=seed) \n",
    "results = cross_val_score(model, X, y, cv=kfold) \n",
    "print(\"Mean Accuracy Decision Tree Classifier using Bagging Technique\",round(results.mean(),2))\n",
    "# Random Forests\n",
    "max_features = 3\n",
    "model = RandomForestClassifier(n_estimators=num_trees, max_features=max_features) \n",
    "results = cross_val_score(model, X, y, cv=kfold) \n",
    "print(\"Mean Accuracy Random Forest Classifier\",round(results.mean(),2))\n",
    "#Extra Trees Classifier\n",
    "max_features = 7 \n",
    "model = ExtraTreesClassifier(n_estimators=num_trees, max_features=max_features)\n",
    "results = cross_val_score(model, X, y, cv=kfold)\n",
    "print(\"Mean Accuracy Extra Trees Classifier\",round(results.mean(),2))"
   ]
  },
  {
   "cell_type": "code",
   "execution_count": 50,
   "metadata": {
    "collapsed": true
   },
   "outputs": [],
   "source": [
    "#Boosting Algorithms"
   ]
  },
  {
   "cell_type": "code",
   "execution_count": 51,
   "metadata": {
    "collapsed": true
   },
   "outputs": [],
   "source": [
    "#1. AdaBoost.\n",
    "#2. Stochastic Gradient Boosting\n"
   ]
  },
  {
   "cell_type": "code",
   "execution_count": 52,
   "metadata": {},
   "outputs": [
    {
     "name": "stdout",
     "output_type": "stream",
     "text": [
      "Mean Accuracy Adaboost:  0.922072716806\n",
      "Mean Accuracy Gradient Boosting Classifier:  0.911542573263\n"
     ]
    }
   ],
   "source": [
    "#AdaBoost\n",
    "num_trees = 30 \n",
    "seed=7 \n",
    "kfold = KFold(n_splits=10, random_state=seed) \n",
    "model = AdaBoostClassifier(n_estimators=num_trees, random_state=seed) \n",
    "results = cross_val_score(model, X, y, cv=kfold) \n",
    "print(\"Mean Accuracy Adaboost: \", results.mean())\n",
    "#Gradient Boosting Algorithm\n",
    "seed = 7\n",
    "num_trees = 100 \n",
    "kfold = KFold(n_splits=10, random_state=seed) \n",
    "model = GradientBoostingClassifier(n_estimators=num_trees, random_state=seed) \n",
    "results = cross_val_score(model, X, y, cv=kfold) \n",
    "print(\"Mean Accuracy Gradient Boosting Classifier: \",results.mean())\n"
   ]
  },
  {
   "cell_type": "code",
   "execution_count": 53,
   "metadata": {
    "collapsed": true
   },
   "outputs": [],
   "source": [
    "#Voting Ensemble"
   ]
  },
  {
   "cell_type": "code",
   "execution_count": 54,
   "metadata": {},
   "outputs": [
    {
     "name": "stdout",
     "output_type": "stream",
     "text": [
      "Mean Estimate of Classification Accuracy:\n",
      "0.870227767239\n"
     ]
    }
   ],
   "source": [
    "\n",
    "# Taking lot of TIME\n",
    "# create the sub models \n",
    "estimators = [] \n",
    "model1 = LogisticRegression() \n",
    "estimators.append(('logistic', model1)) \n",
    "model2 = DecisionTreeClassifier() \n",
    "estimators.append(('cart', model2)) \n",
    "#model3 = SVC() \n",
    "#estimators.append(('svm', model3)) \n",
    "# create the ensemble model \n",
    "ensemble = VotingClassifier(estimators) \n",
    "results = cross_val_score(ensemble, X, y, cv=kfold) \n",
    "print(\"Mean Estimate of Classification Accuracy:\")\n",
    "print(results.mean())\n",
    "\n"
   ]
  },
  {
   "cell_type": "markdown",
   "metadata": {},
   "source": [
    "# Improve Performance with Algorithm Tuning\n"
   ]
  },
  {
   "cell_type": "code",
   "execution_count": 101,
   "metadata": {
    "collapsed": true
   },
   "outputs": [],
   "source": [
    "#Machine Learning Algorithm Parameters\n",
    "# 1. Grid Search Parameter Tuning\n",
    "# 2. Random Search Parameter Tuning"
   ]
  },
  {
   "cell_type": "code",
   "execution_count": 102,
   "metadata": {
    "collapsed": true
   },
   "outputs": [],
   "source": [
    "# GRIDSEARCHCV : Grid Search Parameter Tuning\n",
    "# Grid search is an approach to parameter tuning that will methodically build and evaluate a model for each combination \n",
    "# of algorithm parameters speciﬁed in a grid"
   ]
  },
  {
   "cell_type": "code",
   "execution_count": 103,
   "metadata": {
    "collapsed": true
   },
   "outputs": [],
   "source": [
    "# '''Working'''"
   ]
  },
  {
   "cell_type": "markdown",
   "metadata": {},
   "source": [
    "# OUTPUTS"
   ]
  },
  {
   "cell_type": "code",
   "execution_count": 104,
   "metadata": {
    "collapsed": true
   },
   "outputs": [],
   "source": [
    "y_test.index=pd.DataFrame(predictions_mlp).index\n",
    "output = pd.concat([y_test,pd.DataFrame(predictions_mlp), pd.DataFrame(predictions_dt), pd.DataFrame(predictions_svm),pd.DataFrame(predictions_logistic),pd.DataFrame(predictions_xgb), pd.DataFrame(predictions_gbc)], axis= 1, ignore_index = True)\n",
    "output.columns = ['ACTUAL', 'PREDICTED MLP', 'PREDICTED DT', 'PREDICTED SVM', 'PREDICTED LOGISTIC','PREDICTED XGB','PREDICTED GBC']"
   ]
  },
  {
   "cell_type": "code",
   "execution_count": 105,
   "metadata": {},
   "outputs": [
    {
     "data": {
      "text/html": [
       "<div>\n",
       "<style>\n",
       "    .dataframe thead tr:only-child th {\n",
       "        text-align: right;\n",
       "    }\n",
       "\n",
       "    .dataframe thead th {\n",
       "        text-align: left;\n",
       "    }\n",
       "\n",
       "    .dataframe tbody tr th {\n",
       "        vertical-align: top;\n",
       "    }\n",
       "</style>\n",
       "<table border=\"1\" class=\"dataframe\">\n",
       "  <thead>\n",
       "    <tr style=\"text-align: right;\">\n",
       "      <th></th>\n",
       "      <th>ACTUAL</th>\n",
       "      <th>PREDICTED MLP</th>\n",
       "      <th>PREDICTED DT</th>\n",
       "      <th>PREDICTED SVM</th>\n",
       "      <th>PREDICTED LOGISTIC</th>\n",
       "      <th>PREDICTED XGB</th>\n",
       "      <th>PREDICTED GBC</th>\n",
       "    </tr>\n",
       "  </thead>\n",
       "  <tbody>\n",
       "    <tr>\n",
       "      <th>0</th>\n",
       "      <td>1</td>\n",
       "      <td>1</td>\n",
       "      <td>1</td>\n",
       "      <td>1</td>\n",
       "      <td>1</td>\n",
       "      <td>1</td>\n",
       "      <td>1</td>\n",
       "    </tr>\n",
       "    <tr>\n",
       "      <th>1</th>\n",
       "      <td>0</td>\n",
       "      <td>0</td>\n",
       "      <td>0</td>\n",
       "      <td>0</td>\n",
       "      <td>0</td>\n",
       "      <td>0</td>\n",
       "      <td>0</td>\n",
       "    </tr>\n",
       "    <tr>\n",
       "      <th>2</th>\n",
       "      <td>1</td>\n",
       "      <td>1</td>\n",
       "      <td>1</td>\n",
       "      <td>1</td>\n",
       "      <td>1</td>\n",
       "      <td>1</td>\n",
       "      <td>1</td>\n",
       "    </tr>\n",
       "    <tr>\n",
       "      <th>3</th>\n",
       "      <td>0</td>\n",
       "      <td>0</td>\n",
       "      <td>0</td>\n",
       "      <td>0</td>\n",
       "      <td>0</td>\n",
       "      <td>0</td>\n",
       "      <td>0</td>\n",
       "    </tr>\n",
       "    <tr>\n",
       "      <th>4</th>\n",
       "      <td>0</td>\n",
       "      <td>0</td>\n",
       "      <td>0</td>\n",
       "      <td>0</td>\n",
       "      <td>0</td>\n",
       "      <td>0</td>\n",
       "      <td>0</td>\n",
       "    </tr>\n",
       "  </tbody>\n",
       "</table>\n",
       "</div>"
      ],
      "text/plain": [
       "   ACTUAL  PREDICTED MLP  PREDICTED DT  PREDICTED SVM  PREDICTED LOGISTIC  \\\n",
       "0       1              1             1              1                   1   \n",
       "1       0              0             0              0                   0   \n",
       "2       1              1             1              1                   1   \n",
       "3       0              0             0              0                   0   \n",
       "4       0              0             0              0                   0   \n",
       "\n",
       "   PREDICTED XGB  PREDICTED GBC  \n",
       "0              1              1  \n",
       "1              0              0  \n",
       "2              1              1  \n",
       "3              0              0  \n",
       "4              0              0  "
      ]
     },
     "execution_count": 105,
     "metadata": {},
     "output_type": "execute_result"
    }
   ],
   "source": [
    "output.head()"
   ]
  },
  {
   "cell_type": "code",
   "execution_count": 106,
   "metadata": {
    "collapsed": true
   },
   "outputs": [],
   "source": [
    "output.to_csv(\"Output.csv\")"
   ]
  },
  {
   "cell_type": "markdown",
   "metadata": {},
   "source": [
    "# DESCRIPTION OF MY APPROACH"
   ]
  },
  {
   "cell_type": "raw",
   "metadata": {},
   "source": [
    "1) Performed Exploratory data analysis \n",
    "2) Analyzed Descriptive statistics Mean, Median, mode, skewness, Class distribution and Correlations\n",
    "3) Performed data cleaning by removing -999.25 and renaming classes in Target to 0 and 1.\n",
    "4) Removed Highly correlated attributes\n",
    "5) Used Feature Selection to check the importance of Attributes using RFE and ExtraTrees Classifier.\n",
    "6) Divided Dataset into Independent and Dependent Variables\n",
    "7) Used Test-Train split and K-Fold cross validation to split X and y\n",
    "8) Used different models to predict Target variable and checked for Accuracy, Logarithmaic loss, ROC curve, Confusion Matrix and Classification report.\n",
    "9) Used Ensemble models using Bagging, Boosting and Voting techniques to increase accuracy of Predictions\n",
    "10) Used Algorithm tuning to check the ideal parameters - Working\n",
    "11) Saved the outputs to CSV"
   ]
  },
  {
   "cell_type": "code",
   "execution_count": null,
   "metadata": {
    "collapsed": true
   },
   "outputs": [],
   "source": []
  }
 ],
 "metadata": {
  "kernelspec": {
   "display_name": "Python 3",
   "language": "python",
   "name": "python3"
  },
  "language_info": {
   "codemirror_mode": {
    "name": "ipython",
    "version": 3
   },
   "file_extension": ".py",
   "mimetype": "text/x-python",
   "name": "python",
   "nbconvert_exporter": "python",
   "pygments_lexer": "ipython3",
   "version": "3.6.1"
  }
 },
 "nbformat": 4,
 "nbformat_minor": 2
}
